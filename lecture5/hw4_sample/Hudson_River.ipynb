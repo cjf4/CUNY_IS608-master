{
 "cells": [
  {
   "cell_type": "markdown",
   "metadata": {},
   "source": [
    "This is my analysis of Riverkeeper (www.riverkeeper.org) data on Hudson River Enterococcus levels"
   ]
  },
  {
   "cell_type": "markdown",
   "metadata": {},
   "source": [
    "First I load data and libraries:"
   ]
  },
  {
   "cell_type": "code",
   "execution_count": 14,
   "metadata": {
    "collapsed": false
   },
   "outputs": [
    {
     "name": "stdout",
     "output_type": "stream",
     "text": [
      "Populating the interactive namespace from numpy and matplotlib\n"
     ]
    },
    {
     "name": "stderr",
     "output_type": "stream",
     "text": [
      "WARNING: pylab import has clobbered these variables: ['xlim', 'ylim']\n",
      "`%matplotlib` prevents importing * from pylab and numpy\n"
     ]
    }
   ],
   "source": [
    "import pandas as p\n",
    "import seaborn as sns\n",
    "\n",
    "from ggplot import *\n",
    "%pylab inline"
   ]
  },
  {
   "cell_type": "code",
   "execution_count": 3,
   "metadata": {
    "collapsed": false
   },
   "outputs": [],
   "source": [
    "river_entero = p.read_csv('data/riverkeeper_data_2013.csv')"
   ]
  },
  {
   "cell_type": "markdown",
   "metadata": {},
   "source": [
    "Let's look at the data:"
   ]
  },
  {
   "cell_type": "code",
   "execution_count": 4,
   "metadata": {
    "collapsed": false
   },
   "outputs": [
    {
     "data": {
      "text/html": [
       "<div>\n",
       "<table border=\"1\" class=\"dataframe\">\n",
       "  <thead>\n",
       "    <tr style=\"text-align: right;\">\n",
       "      <th></th>\n",
       "      <th>Site</th>\n",
       "      <th>Date</th>\n",
       "      <th>EnteroCount</th>\n",
       "      <th>FourDayRainTotal</th>\n",
       "      <th>SampleCount</th>\n",
       "    </tr>\n",
       "  </thead>\n",
       "  <tbody>\n",
       "    <tr>\n",
       "      <th>0</th>\n",
       "      <td>Hudson above Mohawk River</td>\n",
       "      <td>10/16/2011</td>\n",
       "      <td>1733</td>\n",
       "      <td>1.5</td>\n",
       "      <td>35</td>\n",
       "    </tr>\n",
       "    <tr>\n",
       "      <th>1</th>\n",
       "      <td>Hudson above Mohawk River</td>\n",
       "      <td>10/21/2013</td>\n",
       "      <td>4</td>\n",
       "      <td>0.2</td>\n",
       "      <td>35</td>\n",
       "    </tr>\n",
       "    <tr>\n",
       "      <th>2</th>\n",
       "      <td>Hudson above Mohawk River</td>\n",
       "      <td>9/21/2013</td>\n",
       "      <td>20</td>\n",
       "      <td>0.0</td>\n",
       "      <td>35</td>\n",
       "    </tr>\n",
       "    <tr>\n",
       "      <th>3</th>\n",
       "      <td>Hudson above Mohawk River</td>\n",
       "      <td>8/19/2013</td>\n",
       "      <td>6</td>\n",
       "      <td>0.0</td>\n",
       "      <td>35</td>\n",
       "    </tr>\n",
       "    <tr>\n",
       "      <th>4</th>\n",
       "      <td>Hudson above Mohawk River</td>\n",
       "      <td>7/21/2013</td>\n",
       "      <td>31</td>\n",
       "      <td>0.0</td>\n",
       "      <td>35</td>\n",
       "    </tr>\n",
       "  </tbody>\n",
       "</table>\n",
       "</div>"
      ],
      "text/plain": [
       "                        Site        Date EnteroCount  FourDayRainTotal  \\\n",
       "0  Hudson above Mohawk River  10/16/2011        1733               1.5   \n",
       "1  Hudson above Mohawk River  10/21/2013           4               0.2   \n",
       "2  Hudson above Mohawk River   9/21/2013          20               0.0   \n",
       "3  Hudson above Mohawk River   8/19/2013           6               0.0   \n",
       "4  Hudson above Mohawk River   7/21/2013          31               0.0   \n",
       "\n",
       "   SampleCount  \n",
       "0           35  \n",
       "1           35  \n",
       "2           35  \n",
       "3           35  \n",
       "4           35  "
      ]
     },
     "execution_count": 4,
     "metadata": {},
     "output_type": "execute_result"
    }
   ],
   "source": [
    "river_entero[0:5]"
   ]
  },
  {
   "cell_type": "code",
   "execution_count": 5,
   "metadata": {
    "collapsed": false
   },
   "outputs": [
    {
     "data": {
      "text/html": [
       "<div>\n",
       "<table border=\"1\" class=\"dataframe\">\n",
       "  <thead>\n",
       "    <tr style=\"text-align: right;\">\n",
       "      <th></th>\n",
       "      <th>FourDayRainTotal</th>\n",
       "      <th>SampleCount</th>\n",
       "    </tr>\n",
       "  </thead>\n",
       "  <tbody>\n",
       "    <tr>\n",
       "      <th>count</th>\n",
       "      <td>3397.000000</td>\n",
       "      <td>3397.000000</td>\n",
       "    </tr>\n",
       "    <tr>\n",
       "      <th>mean</th>\n",
       "      <td>0.568001</td>\n",
       "      <td>56.886370</td>\n",
       "    </tr>\n",
       "    <tr>\n",
       "      <th>std</th>\n",
       "      <td>1.000387</td>\n",
       "      <td>41.588476</td>\n",
       "    </tr>\n",
       "    <tr>\n",
       "      <th>min</th>\n",
       "      <td>0.000000</td>\n",
       "      <td>27.000000</td>\n",
       "    </tr>\n",
       "    <tr>\n",
       "      <th>25%</th>\n",
       "      <td>0.000000</td>\n",
       "      <td>37.000000</td>\n",
       "    </tr>\n",
       "    <tr>\n",
       "      <th>50%</th>\n",
       "      <td>0.200000</td>\n",
       "      <td>42.000000</td>\n",
       "    </tr>\n",
       "    <tr>\n",
       "      <th>75%</th>\n",
       "      <td>0.700000</td>\n",
       "      <td>50.000000</td>\n",
       "    </tr>\n",
       "    <tr>\n",
       "      <th>max</th>\n",
       "      <td>8.500000</td>\n",
       "      <td>187.000000</td>\n",
       "    </tr>\n",
       "  </tbody>\n",
       "</table>\n",
       "</div>"
      ],
      "text/plain": [
       "       FourDayRainTotal  SampleCount\n",
       "count       3397.000000  3397.000000\n",
       "mean           0.568001    56.886370\n",
       "std            1.000387    41.588476\n",
       "min            0.000000    27.000000\n",
       "25%            0.000000    37.000000\n",
       "50%            0.200000    42.000000\n",
       "75%            0.700000    50.000000\n",
       "max            8.500000   187.000000"
      ]
     },
     "execution_count": 5,
     "metadata": {},
     "output_type": "execute_result"
    }
   ],
   "source": [
    "river_entero.describe()"
   ]
  },
  {
   "cell_type": "markdown",
   "metadata": {},
   "source": [
    "uh oh: python is not recognizing EnteroCount as a numeric field\n",
    "! Let's fix that"
   ]
  },
  {
   "cell_type": "code",
   "execution_count": 6,
   "metadata": {
    "collapsed": false
   },
   "outputs": [],
   "source": [
    "river_entero['Date'] = p.Series(\n",
    "    [p.to_datetime(d) for d in river_entero['Date']]\n",
    ")"
   ]
  },
  {
   "cell_type": "markdown",
   "metadata": {},
   "source": [
    "let's find this bad data"
   ]
  },
  {
   "cell_type": "code",
   "execution_count": 7,
   "metadata": {
    "collapsed": false
   },
   "outputs": [
    {
     "data": {
      "text/plain": [
       "<10       528\n",
       "10        289\n",
       "20        148\n",
       "2          83\n",
       "4          78\n",
       "3          77\n",
       "1          77\n",
       "31         65\n",
       "41         64\n",
       "6          64\n",
       "5          63\n",
       ">2420      59\n",
       "11         59\n",
       "12         50\n",
       "7          47\n",
       "<1         44\n",
       "9          41\n",
       "30         39\n",
       "8          39\n",
       "13         35\n",
       "16         35\n",
       "19         30\n",
       "15         30\n",
       "17         28\n",
       "52         26\n",
       "21         25\n",
       "63         24\n",
       "22         23\n",
       "1500       22\n",
       ">24196     20\n",
       "         ... \n",
       "934         1\n",
       "315         1\n",
       "169         1\n",
       "538         1\n",
       "10462       1\n",
       "663         1\n",
       "487         1\n",
       "1032        1\n",
       "939         1\n",
       "578         1\n",
       "240         1\n",
       "183         1\n",
       "2400        1\n",
       "269         1\n",
       "624         1\n",
       "6488        1\n",
       "762         1\n",
       "1063        1\n",
       "824         1\n",
       "5635        1\n",
       "223         1\n",
       "1616        1\n",
       "1275        1\n",
       "337         1\n",
       "336         1\n",
       "882         1\n",
       "140         1\n",
       "530         1\n",
       "400         1\n",
       "181         1\n",
       "Name: EnteroCount, dtype: int64"
      ]
     },
     "execution_count": 7,
     "metadata": {},
     "output_type": "execute_result"
    }
   ],
   "source": [
    "river_entero['EnteroCount'].value_counts()"
   ]
  },
  {
   "cell_type": "markdown",
   "metadata": {},
   "source": [
    "Ok- it looks like there are four bad values: `<1, <10, >2420, >24196`. We want to adjust them. What should we do? Well: that is tricky. <1 is easy. For <10, we know that the value is bounded 0-10, so one approach would be to randomly select numbers 0-10 (if we were really careful, we could estimate the relative frequency).\n",
    "\n",
    "For >2420, that is a tougher questions. let's look at what the distribution of >2420 readings looks like:"
   ]
  },
  {
   "cell_type": "code",
   "execution_count": 8,
   "metadata": {
    "collapsed": false
   },
   "outputs": [],
   "source": [
    "# Evaluate outliers (entero counts > 2420)\n",
    "outliers = river_entero.copy()\n",
    "outliers['EnteroCount'].replace(to_replace='<1', value=0, inplace=True)\n",
    "outliers['EnteroCount'].replace(to_replace='<10', value=0, inplace=True)\n",
    "outliers['EnteroCount'].replace(to_replace='>2420', value=0, inplace=True)\n",
    "outliers['EnteroCount'].replace(to_replace='>24196', value=0, inplace=True)\n",
    "\n",
    "outliers = outliers[outliers['EnteroCount'].astype('float') > 2420]\n",
    "outliers['EnteroCount'] = outliers['EnteroCount'].astype('float')\n",
    "\n",
    "outliers = outliers.reset_index()"
   ]
  },
  {
   "cell_type": "code",
   "execution_count": 16,
   "metadata": {
    "collapsed": false
   },
   "outputs": [
    {
     "data": {
      "text/html": [
       "<div>\n",
       "<table border=\"1\" class=\"dataframe\">\n",
       "  <thead>\n",
       "    <tr style=\"text-align: right;\">\n",
       "      <th></th>\n",
       "      <th>index</th>\n",
       "      <th>Site</th>\n",
       "      <th>Date</th>\n",
       "      <th>EnteroCount</th>\n",
       "      <th>FourDayRainTotal</th>\n",
       "      <th>SampleCount</th>\n",
       "    </tr>\n",
       "  </thead>\n",
       "  <tbody>\n",
       "    <tr>\n",
       "      <th>0</th>\n",
       "      <td>1562</td>\n",
       "      <td>Peekskill Riverfront Green Park</td>\n",
       "      <td>2011-09-15</td>\n",
       "      <td>4352.0</td>\n",
       "      <td>0.0</td>\n",
       "      <td>42</td>\n",
       "    </tr>\n",
       "    <tr>\n",
       "      <th>1</th>\n",
       "      <td>1626</td>\n",
       "      <td>Furnace Brook</td>\n",
       "      <td>2011-05-17</td>\n",
       "      <td>2481.0</td>\n",
       "      <td>2.0</td>\n",
       "      <td>48</td>\n",
       "    </tr>\n",
       "    <tr>\n",
       "      <th>2</th>\n",
       "      <td>1630</td>\n",
       "      <td>Furnace Brook</td>\n",
       "      <td>2011-09-15</td>\n",
       "      <td>4106.0</td>\n",
       "      <td>0.0</td>\n",
       "      <td>48</td>\n",
       "    </tr>\n",
       "    <tr>\n",
       "      <th>3</th>\n",
       "      <td>1701</td>\n",
       "      <td>Cedar Pond Brook</td>\n",
       "      <td>2011-09-15</td>\n",
       "      <td>2723.0</td>\n",
       "      <td>0.0</td>\n",
       "      <td>47</td>\n",
       "    </tr>\n",
       "    <tr>\n",
       "      <th>4</th>\n",
       "      <td>1705</td>\n",
       "      <td>Cedar Pond Brook</td>\n",
       "      <td>2011-05-17</td>\n",
       "      <td>3654.0</td>\n",
       "      <td>2.0</td>\n",
       "      <td>47</td>\n",
       "    </tr>\n",
       "  </tbody>\n",
       "</table>\n",
       "</div>"
      ],
      "text/plain": [
       "   index                             Site       Date  EnteroCount  \\\n",
       "0   1562  Peekskill Riverfront Green Park 2011-09-15       4352.0   \n",
       "1   1626                    Furnace Brook 2011-05-17       2481.0   \n",
       "2   1630                    Furnace Brook 2011-09-15       4106.0   \n",
       "3   1701                 Cedar Pond Brook 2011-09-15       2723.0   \n",
       "4   1705                 Cedar Pond Brook 2011-05-17       3654.0   \n",
       "\n",
       "   FourDayRainTotal  SampleCount  \n",
       "0               0.0           42  \n",
       "1               2.0           48  \n",
       "2               0.0           48  \n",
       "3               0.0           47  \n",
       "4               2.0           47  "
      ]
     },
     "execution_count": 16,
     "metadata": {},
     "output_type": "execute_result"
    }
   ],
   "source": [
    "\n",
    "#outliers.describe()\n",
    "outliers.head()"
   ]
  },
  {
   "cell_type": "code",
   "execution_count": 154,
   "metadata": {
    "collapsed": false
   },
   "outputs": [
    {
     "name": "stderr",
     "output_type": "stream",
     "text": [
      "/Users/josh.laurito/anaconda/envs/py/lib/python3.4/site-packages/ipykernel/__main__.py:1: FutureWarning: convert_objects is deprecated.  Use the data-type specific converters pd.to_datetime, pd.to_timedelta and pd.to_numeric.\n",
      "  if __name__ == '__main__':\n"
     ]
    },
    {
     "data": {
      "text/plain": [
       "[(2000, 7000)]"
      ]
     },
     "execution_count": 154,
     "metadata": {},
     "output_type": "execute_result"
    },
    {
     "data": {
      "image/png": "[encoded data removed]",
      "text/plain": [
       "<matplotlib.figure.Figure at 0x11feab080>"
      ]
     },
     "metadata": {},
     "output_type": "display_data"
    }
   ],
   "source": [
    "outliers['EnteroCount'] = outliers['EnteroCount'].convert_objects(convert_numeric=True)\n",
    "#pt = ggplot(outliers,aes(x='EnteroCount')) + geom_histogram(binwidth=100) + xlim(2400, 5000) + ylim(0,100)\n",
    "#pt\n",
    "pt = sns.distplot(outliers['EnteroCount'], bins=50)\n",
    "\n",
    "pt.set(xlim=(2000,7000))"
   ]
  },
  {
   "cell_type": "markdown",
   "metadata": {},
   "source": [
    "Looks like putting in 3000-4500 is a pretty decent proxy for the rest of our data (though it looks like people just wrote '2500' for high values: probably deserves some more investigation. Let's put in 3750 for now though.\n"
   ]
  },
  {
   "cell_type": "code",
   "execution_count": 31,
   "metadata": {
    "collapsed": false
   },
   "outputs": [],
   "source": [
    "import random\n",
    "#river_entero['EnteroCount'].replace(to_replace='<1', value=0, inplace=True)\n",
    "river_entero['EnteroCount'] = river_entero['EnteroCount'].replace(to_replace='<1', value=0)\n",
    "\n",
    "river_entero['EnteroCount'].replace(to_replace='<10', value=int(10*random.random()), inplace=True)\n",
    "river_entero['EnteroCount'].replace(to_replace='>2420', value=3750, inplace=True)"
   ]
  },
  {
   "cell_type": "code",
   "execution_count": 32,
   "metadata": {
    "collapsed": false
   },
   "outputs": [
    {
     "name": "stderr",
     "output_type": "stream",
     "text": [
      "/Users/josh.laurito/anaconda/envs/py/lib/python3.4/site-packages/ipykernel/__main__.py:1: FutureWarning: convert_objects is deprecated.  Use the data-type specific converters pd.to_datetime, pd.to_timedelta and pd.to_numeric.\n",
      "  if __name__ == '__main__':\n"
     ]
    }
   ],
   "source": [
    "river_entero['EnteroCount'] = river_entero['EnteroCount'].convert_objects(convert_numeric=True)"
   ]
  },
  {
   "cell_type": "code",
   "execution_count": 33,
   "metadata": {
    "collapsed": false
   },
   "outputs": [
    {
     "data": {
      "text/html": [
       "<div>\n",
       "<table border=\"1\" class=\"dataframe\">\n",
       "  <thead>\n",
       "    <tr style=\"text-align: right;\">\n",
       "      <th></th>\n",
       "      <th>EnteroCount</th>\n",
       "      <th>FourDayRainTotal</th>\n",
       "      <th>SampleCount</th>\n",
       "    </tr>\n",
       "  </thead>\n",
       "  <tbody>\n",
       "    <tr>\n",
       "      <th>count</th>\n",
       "      <td>3377.000000</td>\n",
       "      <td>3397.000000</td>\n",
       "      <td>3397.000000</td>\n",
       "    </tr>\n",
       "    <tr>\n",
       "      <th>mean</th>\n",
       "      <td>269.812556</td>\n",
       "      <td>0.568001</td>\n",
       "      <td>56.886370</td>\n",
       "    </tr>\n",
       "    <tr>\n",
       "      <th>std</th>\n",
       "      <td>982.330198</td>\n",
       "      <td>1.000387</td>\n",
       "      <td>41.588476</td>\n",
       "    </tr>\n",
       "    <tr>\n",
       "      <th>min</th>\n",
       "      <td>0.000000</td>\n",
       "      <td>0.000000</td>\n",
       "      <td>27.000000</td>\n",
       "    </tr>\n",
       "    <tr>\n",
       "      <th>25%</th>\n",
       "      <td>9.000000</td>\n",
       "      <td>0.000000</td>\n",
       "      <td>37.000000</td>\n",
       "    </tr>\n",
       "    <tr>\n",
       "      <th>50%</th>\n",
       "      <td>18.000000</td>\n",
       "      <td>0.200000</td>\n",
       "      <td>42.000000</td>\n",
       "    </tr>\n",
       "    <tr>\n",
       "      <th>75%</th>\n",
       "      <td>83.000000</td>\n",
       "      <td>0.700000</td>\n",
       "      <td>50.000000</td>\n",
       "    </tr>\n",
       "    <tr>\n",
       "      <th>max</th>\n",
       "      <td>24196.000000</td>\n",
       "      <td>8.500000</td>\n",
       "      <td>187.000000</td>\n",
       "    </tr>\n",
       "  </tbody>\n",
       "</table>\n",
       "</div>"
      ],
      "text/plain": [
       "        EnteroCount  FourDayRainTotal  SampleCount\n",
       "count   3377.000000       3397.000000  3397.000000\n",
       "mean     269.812556          0.568001    56.886370\n",
       "std      982.330198          1.000387    41.588476\n",
       "min        0.000000          0.000000    27.000000\n",
       "25%        9.000000          0.000000    37.000000\n",
       "50%       18.000000          0.200000    42.000000\n",
       "75%       83.000000          0.700000    50.000000\n",
       "max    24196.000000          8.500000   187.000000"
      ]
     },
     "execution_count": 33,
     "metadata": {},
     "output_type": "execute_result"
    }
   ],
   "source": [
    "river_entero.describe()"
   ]
  },
  {
   "cell_type": "markdown",
   "metadata": {},
   "source": [
    "Ok, let's make some graphs - Let's start with an initial chart to see what we are dealing with"
   ]
  },
  {
   "cell_type": "code",
   "execution_count": 145,
   "metadata": {
    "collapsed": false
   },
   "outputs": [
    {
     "data": {
      "text/plain": [
       "<matplotlib.axes._subplots.AxesSubplot at 0x11c84d5f8>"
      ]
     },
     "execution_count": 145,
     "metadata": {},
     "output_type": "execute_result"
    },
    {
     "data": {
      "image/png": "[encoded data removed]",
      "text/plain": [
       "<matplotlib.figure.Figure at 0x11ba613c8>"
      ]
     },
     "metadata": {},
     "output_type": "display_data"
    }
   ],
   "source": [
    "from datetime import datetime\n",
    "\n",
    "river_entero['Date64'] = river_entero['Date'].astype(np.int64)\n",
    "river_entero['Date_dt'] = river_entero['Date64'].astype(p.DatetimeIndex)\n",
    "\n",
    "# plot \n",
    "river_entero.plot(kind='scatter', x='Date64', y='EnteroCount')\n"
   ]
  },
  {
   "cell_type": "code",
   "execution_count": 149,
   "metadata": {
    "collapsed": false
   },
   "outputs": [
    {
     "name": "stderr",
     "output_type": "stream",
     "text": [
      "/Users/josh.laurito/anaconda/envs/py/lib/python3.4/site-packages/ipykernel/__main__.py:1: FutureWarning: sort(columns=....) is deprecated, use sort_values(by=.....)\n",
      "  if __name__ == '__main__':\n"
     ]
    },
    {
     "data": {
      "text/plain": [
       "<matplotlib.axes._subplots.AxesSubplot at 0x11c17c978>"
      ]
     },
     "execution_count": 149,
     "metadata": {},
     "output_type": "execute_result"
    },
    {
     "data": {
      "image/png": "[encoded data removed]",
      "text/plain": [
       "<matplotlib.figure.Figure at 0x10bf32d68>"
      ]
     },
     "metadata": {},
     "output_type": "display_data"
    }
   ],
   "source": [
    "river_entero.sort('Date64', inplace=True)\n",
    "\n",
    "#river_entero.index = p.date_range('9/19/2006', periods = river_entero['Date64'].size)\n",
    "#river_entero['EnteroCount'].plot()\n",
    "\n",
    "river_entero.plot(\n",
    "    x='Date64', \n",
    "    y='EnteroCount', \n",
    "    figsize=(10,4))\n"
   ]
  },
  {
   "cell_type": "markdown",
   "metadata": {},
   "source": [
    "# 1. Create lists & graphs of the best and worst places to swim in the dataset."
   ]
  },
  {
   "cell_type": "markdown",
   "metadata": {},
   "source": [
    "Given that a single reading over 32 is considered unsafe, we have a really high likelihood of finding locations that do not pass health inspection!\n",
    "\n",
    "'Best' and 'Worst' are subjective labels. To me, it means that you are *most likely* to have poor conditions that prevent swimming, not that you swim in the absolute lowest quality water. I'm going to look at the likelihood of passing/failing the test, though other methods are ok as well. I'm also only going to look at the past 3 years: an arbitrary cut-off, but I do not think data from 2007 has much importance now."
   ]
  },
  {
   "cell_type": "code",
   "execution_count": 180,
   "metadata": {
    "collapsed": false
   },
   "outputs": [],
   "source": [
    "from datetime import datetime\n",
    "river_entero['pass_safety'] = river_entero['EnteroCount'] <= 110"
   ]
  },
  {
   "cell_type": "code",
   "execution_count": 181,
   "metadata": {
    "collapsed": false
   },
   "outputs": [
    {
     "data": {
      "text/html": [
       "<div style=\"max-height:1000px;max-width:1500px;overflow:auto;\">\n",
       "<table border=\"1\" class=\"dataframe\">\n",
       "  <thead>\n",
       "    <tr style=\"text-align: right;\">\n",
       "      <th></th>\n",
       "      <th>Site</th>\n",
       "      <th>Date</th>\n",
       "      <th>EnteroCount</th>\n",
       "      <th>FourDayRainTotal</th>\n",
       "      <th>SampleCount</th>\n",
       "      <th>pass_safety</th>\n",
       "    </tr>\n",
       "  </thead>\n",
       "  <tbody>\n",
       "    <tr>\n",
       "      <th>0</th>\n",
       "      <td> Hudson above Mohawk River</td>\n",
       "      <td>2011-10-16</td>\n",
       "      <td> 1733</td>\n",
       "      <td> 1.5</td>\n",
       "      <td> 35</td>\n",
       "      <td> False</td>\n",
       "    </tr>\n",
       "    <tr>\n",
       "      <th>1</th>\n",
       "      <td> Hudson above Mohawk River</td>\n",
       "      <td>2013-10-21</td>\n",
       "      <td>    4</td>\n",
       "      <td> 0.2</td>\n",
       "      <td> 35</td>\n",
       "      <td>  True</td>\n",
       "    </tr>\n",
       "    <tr>\n",
       "      <th>2</th>\n",
       "      <td> Hudson above Mohawk River</td>\n",
       "      <td>2013-09-21</td>\n",
       "      <td>   20</td>\n",
       "      <td> 0.0</td>\n",
       "      <td> 35</td>\n",
       "      <td>  True</td>\n",
       "    </tr>\n",
       "  </tbody>\n",
       "</table>\n",
       "</div>"
      ],
      "text/plain": [
       "                        Site       Date  EnteroCount  FourDayRainTotal  \\\n",
       "0  Hudson above Mohawk River 2011-10-16         1733               1.5   \n",
       "1  Hudson above Mohawk River 2013-10-21            4               0.2   \n",
       "2  Hudson above Mohawk River 2013-09-21           20               0.0   \n",
       "\n",
       "   SampleCount pass_safety  \n",
       "0           35       False  \n",
       "1           35        True  \n",
       "2           35        True  "
      ]
     },
     "execution_count": 181,
     "metadata": {},
     "output_type": "execute_result"
    }
   ],
   "source": [
    "river_entero[0:3]"
   ]
  },
  {
   "cell_type": "code",
   "execution_count": 182,
   "metadata": {
    "collapsed": false
   },
   "outputs": [],
   "source": [
    "site_pass_rate = river_entero[['Site', \n",
    "                               'pass_safety', \n",
    "                               'EnteroCount']\n",
    "                              ][river_entero['Date'] >= datetime(2011,01,01)].groupby('Site').mean()"
   ]
  },
  {
   "cell_type": "markdown",
   "metadata": {},
   "source": [
    "Ok, we have our pass rates.\n",
    "\n",
    "*For the WORST* let's take the places with the lowest pass rates first, and break ties with the highest average Entero counts first.\n",
    "*For the BEST* we will do the opposite"
   ]
  },
  {
   "cell_type": "code",
   "execution_count": 183,
   "metadata": {
    "collapsed": false
   },
   "outputs": [],
   "source": [
    "worst = site_pass_rate.sort(['pass_safety','EnteroCount'], ascending=[1,0])[0:6]"
   ]
  },
  {
   "cell_type": "code",
   "execution_count": 184,
   "metadata": {
    "collapsed": false
   },
   "outputs": [
    {
     "data": {
      "text/html": [
       "<div style=\"max-height:1000px;max-width:1500px;overflow:auto;\">\n",
       "<table border=\"1\" class=\"dataframe\">\n",
       "  <thead>\n",
       "    <tr style=\"text-align: right;\">\n",
       "      <th></th>\n",
       "      <th>pass_safety</th>\n",
       "      <th>EnteroCount</th>\n",
       "    </tr>\n",
       "    <tr>\n",
       "      <th>Site</th>\n",
       "      <th></th>\n",
       "      <th></th>\n",
       "    </tr>\n",
       "  </thead>\n",
       "  <tbody>\n",
       "    <tr>\n",
       "      <th>Upper Sparkill Creek</th>\n",
       "      <td> 0.166667</td>\n",
       "      <td> 1659.333333</td>\n",
       "    </tr>\n",
       "    <tr>\n",
       "      <th>Mohawk River at Waterford</th>\n",
       "      <td> 0.277778</td>\n",
       "      <td>  823.500000</td>\n",
       "    </tr>\n",
       "    <tr>\n",
       "      <th>Newburgh Launch Ramp</th>\n",
       "      <td> 0.444444</td>\n",
       "      <td>  348.388889</td>\n",
       "    </tr>\n",
       "    <tr>\n",
       "      <th>Dunn Memorial Bridge- Albany</th>\n",
       "      <td> 0.500000</td>\n",
       "      <td>  532.277778</td>\n",
       "    </tr>\n",
       "    <tr>\n",
       "      <th>Saw Mill River</th>\n",
       "      <td> 0.526316</td>\n",
       "      <td> 1584.555556</td>\n",
       "    </tr>\n",
       "    <tr>\n",
       "      <th>Newtown Creek- Metropolitan Ave. Bridge</th>\n",
       "      <td> 0.578947</td>\n",
       "      <td>  563.000000</td>\n",
       "    </tr>\n",
       "  </tbody>\n",
       "</table>\n",
       "</div>"
      ],
      "text/plain": [
       "                                         pass_safety  EnteroCount\n",
       "Site                                                             \n",
       "Upper Sparkill Creek                        0.166667  1659.333333\n",
       "Mohawk River at Waterford                   0.277778   823.500000\n",
       "Newburgh Launch Ramp                        0.444444   348.388889\n",
       "Dunn Memorial Bridge- Albany                0.500000   532.277778\n",
       "Saw Mill River                              0.526316  1584.555556\n",
       "Newtown Creek- Metropolitan Ave. Bridge     0.578947   563.000000"
      ]
     },
     "execution_count": 184,
     "metadata": {},
     "output_type": "execute_result"
    }
   ],
   "source": [
    "worst[:]"
   ]
  },
  {
   "cell_type": "code",
   "execution_count": 185,
   "metadata": {
    "collapsed": false
   },
   "outputs": [],
   "source": [
    "best = site_pass_rate.sort(['pass_safety','EnteroCount'], ascending=[0,1])[0:8]"
   ]
  },
  {
   "cell_type": "code",
   "execution_count": 186,
   "metadata": {
    "collapsed": false
   },
   "outputs": [
    {
     "data": {
      "text/html": [
       "<div style=\"max-height:1000px;max-width:1500px;overflow:auto;\">\n",
       "<table border=\"1\" class=\"dataframe\">\n",
       "  <thead>\n",
       "    <tr style=\"text-align: right;\">\n",
       "      <th></th>\n",
       "      <th>pass_safety</th>\n",
       "      <th>EnteroCount</th>\n",
       "    </tr>\n",
       "    <tr>\n",
       "      <th>Site</th>\n",
       "      <th></th>\n",
       "      <th></th>\n",
       "    </tr>\n",
       "  </thead>\n",
       "  <tbody>\n",
       "    <tr>\n",
       "      <th>TZ Bridge mid-channel</th>\n",
       "      <td> 1</td>\n",
       "      <td>  5.666667</td>\n",
       "    </tr>\n",
       "    <tr>\n",
       "      <th>Haverstraw Bay mid-channel</th>\n",
       "      <td> 1</td>\n",
       "      <td>  8.500000</td>\n",
       "    </tr>\n",
       "    <tr>\n",
       "      <th>Yonkers mid-channel</th>\n",
       "      <td> 1</td>\n",
       "      <td> 11.052632</td>\n",
       "    </tr>\n",
       "    <tr>\n",
       "      <th>Poughkeepsie Drinking Water Intake</th>\n",
       "      <td> 1</td>\n",
       "      <td> 11.555556</td>\n",
       "    </tr>\n",
       "    <tr>\n",
       "      <th>Marlboro Landing</th>\n",
       "      <td> 1</td>\n",
       "      <td> 12.611111</td>\n",
       "    </tr>\n",
       "    <tr>\n",
       "      <th>Stony Point mid-channel</th>\n",
       "      <td> 1</td>\n",
       "      <td> 12.611111</td>\n",
       "    </tr>\n",
       "    <tr>\n",
       "      <th>Little Stony Point</th>\n",
       "      <td> 1</td>\n",
       "      <td> 12.777778</td>\n",
       "    </tr>\n",
       "    <tr>\n",
       "      <th>Cold Spring Harbor</th>\n",
       "      <td> 1</td>\n",
       "      <td> 18.333333</td>\n",
       "    </tr>\n",
       "  </tbody>\n",
       "</table>\n",
       "</div>"
      ],
      "text/plain": [
       "                                    pass_safety  EnteroCount\n",
       "Site                                                        \n",
       "TZ Bridge mid-channel                         1     5.666667\n",
       "Haverstraw Bay mid-channel                    1     8.500000\n",
       "Yonkers mid-channel                           1    11.052632\n",
       "Poughkeepsie Drinking Water Intake            1    11.555556\n",
       "Marlboro Landing                              1    12.611111\n",
       "Stony Point mid-channel                       1    12.611111\n",
       "Little Stony Point                            1    12.777778\n",
       "Cold Spring Harbor                            1    18.333333"
      ]
     },
     "execution_count": 186,
     "metadata": {},
     "output_type": "execute_result"
    }
   ],
   "source": [
    "best[:]"
   ]
  },
  {
   "cell_type": "code",
   "execution_count": 187,
   "metadata": {
    "collapsed": false
   },
   "outputs": [],
   "source": [
    "worst_readings = river_entero[river_entero['Site'].isin(worst.index)]\n",
    "worst_readings = worst_readings[river_entero['Date'] >= datetime(2011,01,01)]"
   ]
  },
  {
   "cell_type": "code",
   "execution_count": 188,
   "metadata": {
    "collapsed": false
   },
   "outputs": [
    {
     "data": {
      "text/html": [
       "<div style=\"max-height:1000px;max-width:1500px;overflow:auto;\">\n",
       "<table border=\"1\" class=\"dataframe\">\n",
       "  <thead>\n",
       "    <tr style=\"text-align: right;\">\n",
       "      <th></th>\n",
       "      <th>Site</th>\n",
       "      <th>Date</th>\n",
       "      <th>EnteroCount</th>\n",
       "      <th>FourDayRainTotal</th>\n",
       "      <th>SampleCount</th>\n",
       "      <th>pass_safety</th>\n",
       "    </tr>\n",
       "  </thead>\n",
       "  <tbody>\n",
       "    <tr>\n",
       "      <th>36  </th>\n",
       "      <td>               Mohawk River at Waterford</td>\n",
       "      <td>2012-07-21</td>\n",
       "      <td>  3750</td>\n",
       "      <td> 0.2</td>\n",
       "      <td> 35</td>\n",
       "      <td> False</td>\n",
       "    </tr>\n",
       "    <tr>\n",
       "      <th>39  </th>\n",
       "      <td>               Mohawk River at Waterford</td>\n",
       "      <td>2013-10-21</td>\n",
       "      <td>   130</td>\n",
       "      <td> 0.2</td>\n",
       "      <td> 35</td>\n",
       "      <td> False</td>\n",
       "    </tr>\n",
       "    <tr>\n",
       "      <th>40  </th>\n",
       "      <td>               Mohawk River at Waterford</td>\n",
       "      <td>2013-09-21</td>\n",
       "      <td>   830</td>\n",
       "      <td> 0.0</td>\n",
       "      <td> 35</td>\n",
       "      <td> False</td>\n",
       "    </tr>\n",
       "    <tr>\n",
       "      <th>41  </th>\n",
       "      <td>               Mohawk River at Waterford</td>\n",
       "      <td>2013-08-19</td>\n",
       "      <td>  1733</td>\n",
       "      <td> 0.0</td>\n",
       "      <td> 35</td>\n",
       "      <td> False</td>\n",
       "    </tr>\n",
       "    <tr>\n",
       "      <th>42  </th>\n",
       "      <td>               Mohawk River at Waterford</td>\n",
       "      <td>2013-07-21</td>\n",
       "      <td>    64</td>\n",
       "      <td> 0.0</td>\n",
       "      <td> 35</td>\n",
       "      <td>  True</td>\n",
       "    </tr>\n",
       "    <tr>\n",
       "      <th>43  </th>\n",
       "      <td>               Mohawk River at Waterford</td>\n",
       "      <td>2013-06-24</td>\n",
       "      <td>  1300</td>\n",
       "      <td> 1.4</td>\n",
       "      <td> 35</td>\n",
       "      <td> False</td>\n",
       "    </tr>\n",
       "    <tr>\n",
       "      <th>44  </th>\n",
       "      <td>               Mohawk River at Waterford</td>\n",
       "      <td>2013-06-04</td>\n",
       "      <td>   461</td>\n",
       "      <td> 1.2</td>\n",
       "      <td> 35</td>\n",
       "      <td> False</td>\n",
       "    </tr>\n",
       "    <tr>\n",
       "      <th>45  </th>\n",
       "      <td>               Mohawk River at Waterford</td>\n",
       "      <td>2012-10-15</td>\n",
       "      <td>   770</td>\n",
       "      <td> 1.4</td>\n",
       "      <td> 35</td>\n",
       "      <td> False</td>\n",
       "    </tr>\n",
       "    <tr>\n",
       "      <th>46  </th>\n",
       "      <td>               Mohawk River at Waterford</td>\n",
       "      <td>2012-09-15</td>\n",
       "      <td>  1300</td>\n",
       "      <td> 0.1</td>\n",
       "      <td> 35</td>\n",
       "      <td> False</td>\n",
       "    </tr>\n",
       "    <tr>\n",
       "      <th>47  </th>\n",
       "      <td>               Mohawk River at Waterford</td>\n",
       "      <td>2012-08-18</td>\n",
       "      <td>   461</td>\n",
       "      <td> 0.3</td>\n",
       "      <td> 35</td>\n",
       "      <td> False</td>\n",
       "    </tr>\n",
       "    <tr>\n",
       "      <th>49  </th>\n",
       "      <td>               Mohawk River at Waterford</td>\n",
       "      <td>2012-06-16</td>\n",
       "      <td>  1023</td>\n",
       "      <td> 0.2</td>\n",
       "      <td> 35</td>\n",
       "      <td> False</td>\n",
       "    </tr>\n",
       "    <tr>\n",
       "      <th>50  </th>\n",
       "      <td>               Mohawk River at Waterford</td>\n",
       "      <td>2012-05-20</td>\n",
       "      <td>   238</td>\n",
       "      <td> 0.0</td>\n",
       "      <td> 35</td>\n",
       "      <td> False</td>\n",
       "    </tr>\n",
       "    <tr>\n",
       "      <th>51  </th>\n",
       "      <td>               Mohawk River at Waterford</td>\n",
       "      <td>2011-10-16</td>\n",
       "      <td>  2420</td>\n",
       "      <td> 1.5</td>\n",
       "      <td> 35</td>\n",
       "      <td> False</td>\n",
       "    </tr>\n",
       "    <tr>\n",
       "      <th>52  </th>\n",
       "      <td>               Mohawk River at Waterford</td>\n",
       "      <td>2011-09-19</td>\n",
       "      <td>    68</td>\n",
       "      <td> 0.1</td>\n",
       "      <td> 35</td>\n",
       "      <td>  True</td>\n",
       "    </tr>\n",
       "    <tr>\n",
       "      <th>53  </th>\n",
       "      <td>               Mohawk River at Waterford</td>\n",
       "      <td>2011-08-21</td>\n",
       "      <td>   142</td>\n",
       "      <td> 0.4</td>\n",
       "      <td> 35</td>\n",
       "      <td> False</td>\n",
       "    </tr>\n",
       "    <tr>\n",
       "      <th>54  </th>\n",
       "      <td>               Mohawk River at Waterford</td>\n",
       "      <td>2011-07-14</td>\n",
       "      <td>    33</td>\n",
       "      <td> 0.3</td>\n",
       "      <td> 35</td>\n",
       "      <td>  True</td>\n",
       "    </tr>\n",
       "    <tr>\n",
       "      <th>55  </th>\n",
       "      <td>               Mohawk River at Waterford</td>\n",
       "      <td>2011-07-02</td>\n",
       "      <td>     4</td>\n",
       "      <td> 2.1</td>\n",
       "      <td> 35</td>\n",
       "      <td>  True</td>\n",
       "    </tr>\n",
       "    <tr>\n",
       "      <th>56  </th>\n",
       "      <td>               Mohawk River at Waterford</td>\n",
       "      <td>2011-05-19</td>\n",
       "      <td>    96</td>\n",
       "      <td> 1.6</td>\n",
       "      <td> 35</td>\n",
       "      <td>  True</td>\n",
       "    </tr>\n",
       "    <tr>\n",
       "      <th>181 </th>\n",
       "      <td>            Dunn Memorial Bridge- Albany</td>\n",
       "      <td>2012-06-16</td>\n",
       "      <td>    17</td>\n",
       "      <td> 0.2</td>\n",
       "      <td> 38</td>\n",
       "      <td>  True</td>\n",
       "    </tr>\n",
       "    <tr>\n",
       "      <th>184 </th>\n",
       "      <td>            Dunn Memorial Bridge- Albany</td>\n",
       "      <td>2013-10-21</td>\n",
       "      <td>   134</td>\n",
       "      <td> 0.2</td>\n",
       "      <td> 38</td>\n",
       "      <td> False</td>\n",
       "    </tr>\n",
       "    <tr>\n",
       "      <th>185 </th>\n",
       "      <td>            Dunn Memorial Bridge- Albany</td>\n",
       "      <td>2013-09-21</td>\n",
       "      <td>    46</td>\n",
       "      <td> 0.0</td>\n",
       "      <td> 38</td>\n",
       "      <td>  True</td>\n",
       "    </tr>\n",
       "    <tr>\n",
       "      <th>186 </th>\n",
       "      <td>            Dunn Memorial Bridge- Albany</td>\n",
       "      <td>2013-08-19</td>\n",
       "      <td>    29</td>\n",
       "      <td> 0.0</td>\n",
       "      <td> 38</td>\n",
       "      <td>  True</td>\n",
       "    </tr>\n",
       "    <tr>\n",
       "      <th>187 </th>\n",
       "      <td>            Dunn Memorial Bridge- Albany</td>\n",
       "      <td>2013-07-21</td>\n",
       "      <td>    19</td>\n",
       "      <td> 0.0</td>\n",
       "      <td> 38</td>\n",
       "      <td>  True</td>\n",
       "    </tr>\n",
       "    <tr>\n",
       "      <th>188 </th>\n",
       "      <td>            Dunn Memorial Bridge- Albany</td>\n",
       "      <td>2013-06-24</td>\n",
       "      <td>  1553</td>\n",
       "      <td> 1.4</td>\n",
       "      <td> 38</td>\n",
       "      <td> False</td>\n",
       "    </tr>\n",
       "    <tr>\n",
       "      <th>189 </th>\n",
       "      <td>            Dunn Memorial Bridge- Albany</td>\n",
       "      <td>2013-06-04</td>\n",
       "      <td>  1553</td>\n",
       "      <td> 1.2</td>\n",
       "      <td> 38</td>\n",
       "      <td> False</td>\n",
       "    </tr>\n",
       "    <tr>\n",
       "      <th>190 </th>\n",
       "      <td>            Dunn Memorial Bridge- Albany</td>\n",
       "      <td>2012-10-15</td>\n",
       "      <td>   411</td>\n",
       "      <td> 1.4</td>\n",
       "      <td> 38</td>\n",
       "      <td> False</td>\n",
       "    </tr>\n",
       "    <tr>\n",
       "      <th>191 </th>\n",
       "      <td>            Dunn Memorial Bridge- Albany</td>\n",
       "      <td>2012-09-15</td>\n",
       "      <td>   211</td>\n",
       "      <td> 0.1</td>\n",
       "      <td> 38</td>\n",
       "      <td> False</td>\n",
       "    </tr>\n",
       "    <tr>\n",
       "      <th>192 </th>\n",
       "      <td>            Dunn Memorial Bridge- Albany</td>\n",
       "      <td>2012-08-18</td>\n",
       "      <td>    17</td>\n",
       "      <td> 0.3</td>\n",
       "      <td> 38</td>\n",
       "      <td>  True</td>\n",
       "    </tr>\n",
       "    <tr>\n",
       "      <th>194 </th>\n",
       "      <td>            Dunn Memorial Bridge- Albany</td>\n",
       "      <td>2012-07-21</td>\n",
       "      <td>     3</td>\n",
       "      <td> 0.2</td>\n",
       "      <td> 38</td>\n",
       "      <td>  True</td>\n",
       "    </tr>\n",
       "    <tr>\n",
       "      <th>195 </th>\n",
       "      <td>            Dunn Memorial Bridge- Albany</td>\n",
       "      <td>2012-05-20</td>\n",
       "      <td>   187</td>\n",
       "      <td> 0.0</td>\n",
       "      <td> 38</td>\n",
       "      <td> False</td>\n",
       "    </tr>\n",
       "    <tr>\n",
       "      <th>...</th>\n",
       "      <td>...</td>\n",
       "      <td>...</td>\n",
       "      <td>...</td>\n",
       "      <td>...</td>\n",
       "      <td>...</td>\n",
       "      <td>...</td>\n",
       "    </tr>\n",
       "    <tr>\n",
       "      <th>2585</th>\n",
       "      <td>                          Saw Mill River</td>\n",
       "      <td>2012-08-13</td>\n",
       "      <td>   368</td>\n",
       "      <td> 0.2</td>\n",
       "      <td> 50</td>\n",
       "      <td> False</td>\n",
       "    </tr>\n",
       "    <tr>\n",
       "      <th>2586</th>\n",
       "      <td>                          Saw Mill River</td>\n",
       "      <td>2012-07-16</td>\n",
       "      <td>   958</td>\n",
       "      <td> 0.3</td>\n",
       "      <td> 50</td>\n",
       "      <td> False</td>\n",
       "    </tr>\n",
       "    <tr>\n",
       "      <th>2587</th>\n",
       "      <td>                          Saw Mill River</td>\n",
       "      <td>2012-06-12</td>\n",
       "      <td>    98</td>\n",
       "      <td> 0.0</td>\n",
       "      <td> 50</td>\n",
       "      <td>  True</td>\n",
       "    </tr>\n",
       "    <tr>\n",
       "      <th>2588</th>\n",
       "      <td>                          Saw Mill River</td>\n",
       "      <td>2012-05-16</td>\n",
       "      <td>    10</td>\n",
       "      <td> 0.6</td>\n",
       "      <td> 50</td>\n",
       "      <td>  True</td>\n",
       "    </tr>\n",
       "    <tr>\n",
       "      <th>2589</th>\n",
       "      <td>                          Saw Mill River</td>\n",
       "      <td>2011-09-15</td>\n",
       "      <td>    75</td>\n",
       "      <td> 0.0</td>\n",
       "      <td> 50</td>\n",
       "      <td>  True</td>\n",
       "    </tr>\n",
       "    <tr>\n",
       "      <th>2590</th>\n",
       "      <td>                          Saw Mill River</td>\n",
       "      <td>2011-08-17</td>\n",
       "      <td> 24196</td>\n",
       "      <td> 6.4</td>\n",
       "      <td> 50</td>\n",
       "      <td> False</td>\n",
       "    </tr>\n",
       "    <tr>\n",
       "      <th>2591</th>\n",
       "      <td>                          Saw Mill River</td>\n",
       "      <td>2011-07-18</td>\n",
       "      <td>    10</td>\n",
       "      <td> 0.0</td>\n",
       "      <td> 50</td>\n",
       "      <td>  True</td>\n",
       "    </tr>\n",
       "    <tr>\n",
       "      <th>2592</th>\n",
       "      <td>                          Saw Mill River</td>\n",
       "      <td>2011-06-28</td>\n",
       "      <td>   959</td>\n",
       "      <td> 0.0</td>\n",
       "      <td> 50</td>\n",
       "      <td> False</td>\n",
       "    </tr>\n",
       "    <tr>\n",
       "      <th>2593</th>\n",
       "      <td>                          Saw Mill River</td>\n",
       "      <td>2013-09-18</td>\n",
       "      <td>    41</td>\n",
       "      <td> 0.0</td>\n",
       "      <td> 50</td>\n",
       "      <td>  True</td>\n",
       "    </tr>\n",
       "    <tr>\n",
       "      <th>2609</th>\n",
       "      <td>                          Saw Mill River</td>\n",
       "      <td>2013-10-16</td>\n",
       "      <td>    86</td>\n",
       "      <td> 0.0</td>\n",
       "      <td> 50</td>\n",
       "      <td>  True</td>\n",
       "    </tr>\n",
       "    <tr>\n",
       "      <th>2624</th>\n",
       "      <td>                          Saw Mill River</td>\n",
       "      <td>2011-10-21</td>\n",
       "      <td>    31</td>\n",
       "      <td> 1.1</td>\n",
       "      <td> 50</td>\n",
       "      <td>  True</td>\n",
       "    </tr>\n",
       "    <tr>\n",
       "      <th>3277</th>\n",
       "      <td> Newtown Creek- Metropolitan Ave. Bridge</td>\n",
       "      <td>2013-09-18</td>\n",
       "      <td>    30</td>\n",
       "      <td> 0.0</td>\n",
       "      <td> 57</td>\n",
       "      <td>  True</td>\n",
       "    </tr>\n",
       "    <tr>\n",
       "      <th>3293</th>\n",
       "      <td> Newtown Creek- Metropolitan Ave. Bridge</td>\n",
       "      <td>2011-05-16</td>\n",
       "      <td>  1063</td>\n",
       "      <td> 1.1</td>\n",
       "      <td> 57</td>\n",
       "      <td> False</td>\n",
       "    </tr>\n",
       "    <tr>\n",
       "      <th>3294</th>\n",
       "      <td> Newtown Creek- Metropolitan Ave. Bridge</td>\n",
       "      <td>2011-06-27</td>\n",
       "      <td>     0</td>\n",
       "      <td> 0.0</td>\n",
       "      <td> 57</td>\n",
       "      <td>  True</td>\n",
       "    </tr>\n",
       "    <tr>\n",
       "      <th>3295</th>\n",
       "      <td> Newtown Creek- Metropolitan Ave. Bridge</td>\n",
       "      <td>2011-07-19</td>\n",
       "      <td>    10</td>\n",
       "      <td> 0.1</td>\n",
       "      <td> 57</td>\n",
       "      <td>  True</td>\n",
       "    </tr>\n",
       "    <tr>\n",
       "      <th>3296</th>\n",
       "      <td> Newtown Creek- Metropolitan Ave. Bridge</td>\n",
       "      <td>2011-08-16</td>\n",
       "      <td>   613</td>\n",
       "      <td> 6.4</td>\n",
       "      <td> 57</td>\n",
       "      <td> False</td>\n",
       "    </tr>\n",
       "    <tr>\n",
       "      <th>3297</th>\n",
       "      <td> Newtown Creek- Metropolitan Ave. Bridge</td>\n",
       "      <td>2011-09-14</td>\n",
       "      <td>    10</td>\n",
       "      <td> 0.0</td>\n",
       "      <td> 57</td>\n",
       "      <td>  True</td>\n",
       "    </tr>\n",
       "    <tr>\n",
       "      <th>3298</th>\n",
       "      <td> Newtown Creek- Metropolitan Ave. Bridge</td>\n",
       "      <td>2011-10-21</td>\n",
       "      <td>  2300</td>\n",
       "      <td> 1.1</td>\n",
       "      <td> 57</td>\n",
       "      <td> False</td>\n",
       "    </tr>\n",
       "    <tr>\n",
       "      <th>3299</th>\n",
       "      <td> Newtown Creek- Metropolitan Ave. Bridge</td>\n",
       "      <td>2012-05-15</td>\n",
       "      <td>   146</td>\n",
       "      <td> 0.5</td>\n",
       "      <td> 57</td>\n",
       "      <td> False</td>\n",
       "    </tr>\n",
       "    <tr>\n",
       "      <th>3300</th>\n",
       "      <td> Newtown Creek- Metropolitan Ave. Bridge</td>\n",
       "      <td>2012-06-11</td>\n",
       "      <td>     0</td>\n",
       "      <td> 0.0</td>\n",
       "      <td> 57</td>\n",
       "      <td>  True</td>\n",
       "    </tr>\n",
       "    <tr>\n",
       "      <th>3301</th>\n",
       "      <td> Newtown Creek- Metropolitan Ave. Bridge</td>\n",
       "      <td>2013-10-16</td>\n",
       "      <td>    74</td>\n",
       "      <td> 0.0</td>\n",
       "      <td> 57</td>\n",
       "      <td>  True</td>\n",
       "    </tr>\n",
       "    <tr>\n",
       "      <th>3302</th>\n",
       "      <td> Newtown Creek- Metropolitan Ave. Bridge</td>\n",
       "      <td>2012-07-16</td>\n",
       "      <td>   414</td>\n",
       "      <td> 0.3</td>\n",
       "      <td> 57</td>\n",
       "      <td> False</td>\n",
       "    </tr>\n",
       "    <tr>\n",
       "      <th>3303</th>\n",
       "      <td> Newtown Creek- Metropolitan Ave. Bridge</td>\n",
       "      <td>2013-08-14</td>\n",
       "      <td>  4352</td>\n",
       "      <td> 1.0</td>\n",
       "      <td> 57</td>\n",
       "      <td> False</td>\n",
       "    </tr>\n",
       "    <tr>\n",
       "      <th>3304</th>\n",
       "      <td> Newtown Creek- Metropolitan Ave. Bridge</td>\n",
       "      <td>2013-07-17</td>\n",
       "      <td>    30</td>\n",
       "      <td> 0.0</td>\n",
       "      <td> 57</td>\n",
       "      <td>  True</td>\n",
       "    </tr>\n",
       "    <tr>\n",
       "      <th>3305</th>\n",
       "      <td> Newtown Creek- Metropolitan Ave. Bridge</td>\n",
       "      <td>2013-06-19</td>\n",
       "      <td>    41</td>\n",
       "      <td> 0.2</td>\n",
       "      <td> 57</td>\n",
       "      <td>  True</td>\n",
       "    </tr>\n",
       "    <tr>\n",
       "      <th>3306</th>\n",
       "      <td> Newtown Creek- Metropolitan Ave. Bridge</td>\n",
       "      <td>2013-05-31</td>\n",
       "      <td>    10</td>\n",
       "      <td> 0.5</td>\n",
       "      <td> 57</td>\n",
       "      <td>  True</td>\n",
       "    </tr>\n",
       "    <tr>\n",
       "      <th>3307</th>\n",
       "      <td> Newtown Creek- Metropolitan Ave. Bridge</td>\n",
       "      <td>2012-11-08</td>\n",
       "      <td>  1095</td>\n",
       "      <td> 1.2</td>\n",
       "      <td> 57</td>\n",
       "      <td> False</td>\n",
       "    </tr>\n",
       "    <tr>\n",
       "      <th>3308</th>\n",
       "      <td> Newtown Creek- Metropolitan Ave. Bridge</td>\n",
       "      <td>2012-10-10</td>\n",
       "      <td>   446</td>\n",
       "      <td> 0.5</td>\n",
       "      <td> 57</td>\n",
       "      <td> False</td>\n",
       "    </tr>\n",
       "    <tr>\n",
       "      <th>3309</th>\n",
       "      <td> Newtown Creek- Metropolitan Ave. Bridge</td>\n",
       "      <td>2012-09-10</td>\n",
       "      <td>    63</td>\n",
       "      <td> 0.4</td>\n",
       "      <td> 57</td>\n",
       "      <td>  True</td>\n",
       "    </tr>\n",
       "    <tr>\n",
       "      <th>3310</th>\n",
       "      <td> Newtown Creek- Metropolitan Ave. Bridge</td>\n",
       "      <td>2012-08-13</td>\n",
       "      <td>     0</td>\n",
       "      <td> 0.2</td>\n",
       "      <td> 57</td>\n",
       "      <td>  True</td>\n",
       "    </tr>\n",
       "  </tbody>\n",
       "</table>\n",
       "<p>116 rows × 6 columns</p>\n",
       "</div>"
      ],
      "text/plain": [
       "                                         Site       Date  EnteroCount  \\\n",
       "36                  Mohawk River at Waterford 2012-07-21         3750   \n",
       "39                  Mohawk River at Waterford 2013-10-21          130   \n",
       "40                  Mohawk River at Waterford 2013-09-21          830   \n",
       "41                  Mohawk River at Waterford 2013-08-19         1733   \n",
       "42                  Mohawk River at Waterford 2013-07-21           64   \n",
       "43                  Mohawk River at Waterford 2013-06-24         1300   \n",
       "44                  Mohawk River at Waterford 2013-06-04          461   \n",
       "45                  Mohawk River at Waterford 2012-10-15          770   \n",
       "46                  Mohawk River at Waterford 2012-09-15         1300   \n",
       "47                  Mohawk River at Waterford 2012-08-18          461   \n",
       "49                  Mohawk River at Waterford 2012-06-16         1023   \n",
       "50                  Mohawk River at Waterford 2012-05-20          238   \n",
       "51                  Mohawk River at Waterford 2011-10-16         2420   \n",
       "52                  Mohawk River at Waterford 2011-09-19           68   \n",
       "53                  Mohawk River at Waterford 2011-08-21          142   \n",
       "54                  Mohawk River at Waterford 2011-07-14           33   \n",
       "55                  Mohawk River at Waterford 2011-07-02            4   \n",
       "56                  Mohawk River at Waterford 2011-05-19           96   \n",
       "181              Dunn Memorial Bridge- Albany 2012-06-16           17   \n",
       "184              Dunn Memorial Bridge- Albany 2013-10-21          134   \n",
       "185              Dunn Memorial Bridge- Albany 2013-09-21           46   \n",
       "186              Dunn Memorial Bridge- Albany 2013-08-19           29   \n",
       "187              Dunn Memorial Bridge- Albany 2013-07-21           19   \n",
       "188              Dunn Memorial Bridge- Albany 2013-06-24         1553   \n",
       "189              Dunn Memorial Bridge- Albany 2013-06-04         1553   \n",
       "190              Dunn Memorial Bridge- Albany 2012-10-15          411   \n",
       "191              Dunn Memorial Bridge- Albany 2012-09-15          211   \n",
       "192              Dunn Memorial Bridge- Albany 2012-08-18           17   \n",
       "194              Dunn Memorial Bridge- Albany 2012-07-21            3   \n",
       "195              Dunn Memorial Bridge- Albany 2012-05-20          187   \n",
       "...                                       ...        ...          ...   \n",
       "2585                           Saw Mill River 2012-08-13          368   \n",
       "2586                           Saw Mill River 2012-07-16          958   \n",
       "2587                           Saw Mill River 2012-06-12           98   \n",
       "2588                           Saw Mill River 2012-05-16           10   \n",
       "2589                           Saw Mill River 2011-09-15           75   \n",
       "2590                           Saw Mill River 2011-08-17        24196   \n",
       "2591                           Saw Mill River 2011-07-18           10   \n",
       "2592                           Saw Mill River 2011-06-28          959   \n",
       "2593                           Saw Mill River 2013-09-18           41   \n",
       "2609                           Saw Mill River 2013-10-16           86   \n",
       "2624                           Saw Mill River 2011-10-21           31   \n",
       "3277  Newtown Creek- Metropolitan Ave. Bridge 2013-09-18           30   \n",
       "3293  Newtown Creek- Metropolitan Ave. Bridge 2011-05-16         1063   \n",
       "3294  Newtown Creek- Metropolitan Ave. Bridge 2011-06-27            0   \n",
       "3295  Newtown Creek- Metropolitan Ave. Bridge 2011-07-19           10   \n",
       "3296  Newtown Creek- Metropolitan Ave. Bridge 2011-08-16          613   \n",
       "3297  Newtown Creek- Metropolitan Ave. Bridge 2011-09-14           10   \n",
       "3298  Newtown Creek- Metropolitan Ave. Bridge 2011-10-21         2300   \n",
       "3299  Newtown Creek- Metropolitan Ave. Bridge 2012-05-15          146   \n",
       "3300  Newtown Creek- Metropolitan Ave. Bridge 2012-06-11            0   \n",
       "3301  Newtown Creek- Metropolitan Ave. Bridge 2013-10-16           74   \n",
       "3302  Newtown Creek- Metropolitan Ave. Bridge 2012-07-16          414   \n",
       "3303  Newtown Creek- Metropolitan Ave. Bridge 2013-08-14         4352   \n",
       "3304  Newtown Creek- Metropolitan Ave. Bridge 2013-07-17           30   \n",
       "3305  Newtown Creek- Metropolitan Ave. Bridge 2013-06-19           41   \n",
       "3306  Newtown Creek- Metropolitan Ave. Bridge 2013-05-31           10   \n",
       "3307  Newtown Creek- Metropolitan Ave. Bridge 2012-11-08         1095   \n",
       "3308  Newtown Creek- Metropolitan Ave. Bridge 2012-10-10          446   \n",
       "3309  Newtown Creek- Metropolitan Ave. Bridge 2012-09-10           63   \n",
       "3310  Newtown Creek- Metropolitan Ave. Bridge 2012-08-13            0   \n",
       "\n",
       "      FourDayRainTotal  SampleCount pass_safety  \n",
       "36                 0.2           35       False  \n",
       "39                 0.2           35       False  \n",
       "40                 0.0           35       False  \n",
       "41                 0.0           35       False  \n",
       "42                 0.0           35        True  \n",
       "43                 1.4           35       False  \n",
       "44                 1.2           35       False  \n",
       "45                 1.4           35       False  \n",
       "46                 0.1           35       False  \n",
       "47                 0.3           35       False  \n",
       "49                 0.2           35       False  \n",
       "50                 0.0           35       False  \n",
       "51                 1.5           35       False  \n",
       "52                 0.1           35        True  \n",
       "53                 0.4           35       False  \n",
       "54                 0.3           35        True  \n",
       "55                 2.1           35        True  \n",
       "56                 1.6           35        True  \n",
       "181                0.2           38        True  \n",
       "184                0.2           38       False  \n",
       "185                0.0           38        True  \n",
       "186                0.0           38        True  \n",
       "187                0.0           38        True  \n",
       "188                1.4           38       False  \n",
       "189                1.2           38       False  \n",
       "190                1.4           38       False  \n",
       "191                0.1           38       False  \n",
       "192                0.3           38        True  \n",
       "194                0.2           38        True  \n",
       "195                0.0           38       False  \n",
       "...                ...          ...         ...  \n",
       "2585               0.2           50       False  \n",
       "2586               0.3           50       False  \n",
       "2587               0.0           50        True  \n",
       "2588               0.6           50        True  \n",
       "2589               0.0           50        True  \n",
       "2590               6.4           50       False  \n",
       "2591               0.0           50        True  \n",
       "2592               0.0           50       False  \n",
       "2593               0.0           50        True  \n",
       "2609               0.0           50        True  \n",
       "2624               1.1           50        True  \n",
       "3277               0.0           57        True  \n",
       "3293               1.1           57       False  \n",
       "3294               0.0           57        True  \n",
       "3295               0.1           57        True  \n",
       "3296               6.4           57       False  \n",
       "3297               0.0           57        True  \n",
       "3298               1.1           57       False  \n",
       "3299               0.5           57       False  \n",
       "3300               0.0           57        True  \n",
       "3301               0.0           57        True  \n",
       "3302               0.3           57       False  \n",
       "3303               1.0           57       False  \n",
       "3304               0.0           57        True  \n",
       "3305               0.2           57        True  \n",
       "3306               0.5           57        True  \n",
       "3307               1.2           57       False  \n",
       "3308               0.5           57       False  \n",
       "3309               0.4           57        True  \n",
       "3310               0.2           57        True  \n",
       "\n",
       "[116 rows x 6 columns]"
      ]
     },
     "execution_count": 188,
     "metadata": {},
     "output_type": "execute_result"
    }
   ],
   "source": [
    "worst_readings"
   ]
  },
  {
   "cell_type": "code",
   "execution_count": 189,
   "metadata": {
    "collapsed": false
   },
   "outputs": [],
   "source": [
    "best_readings = river_entero[river_entero['Site'].isin(best.index)]\n",
    "best_readings = best_readings[river_entero['Date'] >= datetime(2011,01,01)]"
   ]
  },
  {
   "cell_type": "code",
   "execution_count": 190,
   "metadata": {
    "collapsed": false
   },
   "outputs": [
    {
     "data": {
      "image/png": "[encoded data removed]",
      "text/plain": [
       "<matplotlib.figure.Figure at 0x121bd1d10>"
      ]
     },
     "metadata": {},
     "output_type": "display_data"
    },
    {
     "data": {
      "text/plain": [
       "<ggplot: (303947061)>"
      ]
     },
     "execution_count": 190,
     "metadata": {},
     "output_type": "execute_result"
    }
   ],
   "source": [
    "pt = ggplot(worst_readings, aes(x='Date', y='EnteroCount')) + geom_point() + scale_x_date(labels='%m %y') \n",
    "pt = pt  + geom_hline(y=110,color='blue') #+ geom_hline(y=5000,color='white') + geom_hline(y=-1500,color='white')\n",
    "pt + facet_wrap('Site', nrow=2)"
   ]
  },
  {
   "cell_type": "markdown",
   "metadata": {},
   "source": [
    "pretty good, but the scales on each chart are different: force them to be similar"
   ]
  },
  {
   "cell_type": "code",
   "execution_count": 191,
   "metadata": {
    "collapsed": false
   },
   "outputs": [
    {
     "data": {
      "image/png": "[encoded data removed]",
      "text/plain": [
       "<matplotlib.figure.Figure at 0x122403810>"
      ]
     },
     "metadata": {},
     "output_type": "display_data"
    },
    {
     "data": {
      "text/plain": [
       "<ggplot: (304690241)>"
      ]
     },
     "execution_count": 191,
     "metadata": {},
     "output_type": "execute_result"
    }
   ],
   "source": [
    "pt = ggplot(worst_readings, aes(x='Date', y='EnteroCount')) + geom_point() + scale_x_date(labels='%m %y') \n",
    "pt = pt + geom_hline(y=110,color='blue') + ylim(-100,4000)\n",
    "pt + facet_wrap('Site', nrow=2)"
   ]
  },
  {
   "cell_type": "code",
   "execution_count": 192,
   "metadata": {
    "collapsed": false
   },
   "outputs": [
    {
     "data": {
      "image/png": "[encoded data removed]",
      "text/plain": [
       "<matplotlib.figure.Figure at 0x11ff06350>"
      ]
     },
     "metadata": {},
     "output_type": "display_data"
    },
    {
     "data": {
      "text/plain": [
       "<ggplot: (299450225)>"
      ]
     },
     "execution_count": 192,
     "metadata": {},
     "output_type": "execute_result"
    }
   ],
   "source": [
    "worst['Site_Name'] = worst.index\n",
    "worst['Site_Name'] = worst['Site_Name'].str[0:12]\n",
    "p2 = ggplot(worst.reset_index(), aes(x='Site_Name', y='pass_safety')) + \\\n",
    "     geom_bar(aes(weight='pass_safety', fill='steelblue'))\n",
    "p2 + scale_y_continuous('Water Quality Pass Rate')"
   ]
  },
  {
   "cell_type": "code",
   "execution_count": 193,
   "metadata": {
    "collapsed": false
   },
   "outputs": [
    {
     "data": {
      "image/png": "[encoded data removed]",
      "text/plain": [
       "<matplotlib.figure.Figure at 0x121bda150>"
      ]
     },
     "metadata": {},
     "output_type": "display_data"
    },
    {
     "data": {
      "text/plain": [
       "<ggplot: (304515673)>"
      ]
     },
     "execution_count": 193,
     "metadata": {},
     "output_type": "execute_result"
    }
   ],
   "source": [
    "best['Site_Name'] = best.index\n",
    "best['Site_Name'] = best['Site_Name'].str[0:12]\n",
    "p2 = ggplot(best.reset_index(), aes(x='Site_Name', y='pass_safety')) + geom_bar(aes(weight='pass_safety', fill='steelblue'))\n",
    "p2 + scale_y_continuous('Water Quality Pass Rate')"
   ]
  },
  {
   "cell_type": "markdown",
   "metadata": {},
   "source": [
    "# 2 The testing of water quality can be sporadic. Which sites have been tested most regularly? Which ones have long gaps between tests? Pick out 5-10 sites and visually compare how regularly their water quality is tested."
   ]
  },
  {
   "cell_type": "markdown",
   "metadata": {},
   "source": [
    "Time distance between events is really difficult to convey, especially when we are aggregating data. We'll attempt to handle it using histograms"
   ]
  },
  {
   "cell_type": "code",
   "execution_count": 204,
   "metadata": {
    "collapsed": false
   },
   "outputs": [],
   "source": [
    "river_entero.sort(['Site', 'Date'], inplace=True)\n",
    "river_entero_wq = river_entero.reset_index()\n"
   ]
  },
  {
   "cell_type": "code",
   "execution_count": 205,
   "metadata": {
    "collapsed": false
   },
   "outputs": [
    {
     "data": {
      "text/html": [
       "<div style=\"max-height:1000px;max-width:1500px;overflow:auto;\">\n",
       "<table border=\"1\" class=\"dataframe\">\n",
       "  <thead>\n",
       "    <tr style=\"text-align: right;\">\n",
       "      <th></th>\n",
       "      <th>index</th>\n",
       "      <th>Site</th>\n",
       "      <th>Date</th>\n",
       "      <th>EnteroCount</th>\n",
       "      <th>FourDayRainTotal</th>\n",
       "      <th>SampleCount</th>\n",
       "      <th>pass_safety</th>\n",
       "      <th>days_between_samples</th>\n",
       "    </tr>\n",
       "  </thead>\n",
       "  <tbody>\n",
       "    <tr>\n",
       "      <th>60</th>\n",
       "      <td> 2903</td>\n",
       "      <td>       125th St. Pier</td>\n",
       "      <td>2013-05-31</td>\n",
       "      <td>   0</td>\n",
       "      <td> 0.5</td>\n",
       "      <td> 66</td>\n",
       "      <td>  True</td>\n",
       "      <td>  204 days</td>\n",
       "    </tr>\n",
       "    <tr>\n",
       "      <th>61</th>\n",
       "      <td> 2904</td>\n",
       "      <td>       125th St. Pier</td>\n",
       "      <td>2013-06-19</td>\n",
       "      <td>  41</td>\n",
       "      <td> 0.2</td>\n",
       "      <td> 66</td>\n",
       "      <td>  True</td>\n",
       "      <td>   19 days</td>\n",
       "    </tr>\n",
       "    <tr>\n",
       "      <th>62</th>\n",
       "      <td> 2905</td>\n",
       "      <td>       125th St. Pier</td>\n",
       "      <td>2013-07-17</td>\n",
       "      <td>  10</td>\n",
       "      <td> 0.0</td>\n",
       "      <td> 66</td>\n",
       "      <td>  True</td>\n",
       "      <td>   28 days</td>\n",
       "    </tr>\n",
       "    <tr>\n",
       "      <th>63</th>\n",
       "      <td> 2906</td>\n",
       "      <td>       125th St. Pier</td>\n",
       "      <td>2013-08-14</td>\n",
       "      <td>  31</td>\n",
       "      <td> 1.0</td>\n",
       "      <td> 66</td>\n",
       "      <td>  True</td>\n",
       "      <td>   28 days</td>\n",
       "    </tr>\n",
       "    <tr>\n",
       "      <th>64</th>\n",
       "      <td> 2907</td>\n",
       "      <td>       125th St. Pier</td>\n",
       "      <td>2013-09-18</td>\n",
       "      <td>  41</td>\n",
       "      <td> 0.0</td>\n",
       "      <td> 66</td>\n",
       "      <td>  True</td>\n",
       "      <td>   35 days</td>\n",
       "    </tr>\n",
       "    <tr>\n",
       "      <th>65</th>\n",
       "      <td> 2908</td>\n",
       "      <td>       125th St. Pier</td>\n",
       "      <td>2013-10-16</td>\n",
       "      <td> 201</td>\n",
       "      <td> 0.0</td>\n",
       "      <td> 66</td>\n",
       "      <td> False</td>\n",
       "      <td>   28 days</td>\n",
       "    </tr>\n",
       "    <tr>\n",
       "      <th>66</th>\n",
       "      <td> 3013</td>\n",
       "      <td> 79th St. mid-channel</td>\n",
       "      <td>2006-09-26</td>\n",
       "      <td>   0</td>\n",
       "      <td> 0.1</td>\n",
       "      <td> 49</td>\n",
       "      <td>  True</td>\n",
       "      <td>-2577 days</td>\n",
       "    </tr>\n",
       "    <tr>\n",
       "      <th>67</th>\n",
       "      <td> 3012</td>\n",
       "      <td> 79th St. mid-channel</td>\n",
       "      <td>2006-10-18</td>\n",
       "      <td>  30</td>\n",
       "      <td> 1.1</td>\n",
       "      <td> 49</td>\n",
       "      <td>  True</td>\n",
       "      <td>   22 days</td>\n",
       "    </tr>\n",
       "    <tr>\n",
       "      <th>68</th>\n",
       "      <td> 3011</td>\n",
       "      <td> 79th St. mid-channel</td>\n",
       "      <td>2006-11-10</td>\n",
       "      <td> 143</td>\n",
       "      <td> 3.6</td>\n",
       "      <td> 49</td>\n",
       "      <td> False</td>\n",
       "      <td>   23 days</td>\n",
       "    </tr>\n",
       "    <tr>\n",
       "      <th>69</th>\n",
       "      <td> 3010</td>\n",
       "      <td> 79th St. mid-channel</td>\n",
       "      <td>2007-04-18</td>\n",
       "      <td> 205</td>\n",
       "      <td> 8.5</td>\n",
       "      <td> 49</td>\n",
       "      <td> False</td>\n",
       "      <td>  159 days</td>\n",
       "    </tr>\n",
       "  </tbody>\n",
       "</table>\n",
       "</div>"
      ],
      "text/plain": [
       "    index                  Site       Date  EnteroCount  FourDayRainTotal  \\\n",
       "60   2903        125th St. Pier 2013-05-31            0               0.5   \n",
       "61   2904        125th St. Pier 2013-06-19           41               0.2   \n",
       "62   2905        125th St. Pier 2013-07-17           10               0.0   \n",
       "63   2906        125th St. Pier 2013-08-14           31               1.0   \n",
       "64   2907        125th St. Pier 2013-09-18           41               0.0   \n",
       "65   2908        125th St. Pier 2013-10-16          201               0.0   \n",
       "66   3013  79th St. mid-channel 2006-09-26            0               0.1   \n",
       "67   3012  79th St. mid-channel 2006-10-18           30               1.1   \n",
       "68   3011  79th St. mid-channel 2006-11-10          143               3.6   \n",
       "69   3010  79th St. mid-channel 2007-04-18          205               8.5   \n",
       "\n",
       "    SampleCount pass_safety  days_between_samples  \n",
       "60           66        True              204 days  \n",
       "61           66        True               19 days  \n",
       "62           66        True               28 days  \n",
       "63           66        True               28 days  \n",
       "64           66        True               35 days  \n",
       "65           66       False               28 days  \n",
       "66           49        True            -2577 days  \n",
       "67           49        True               22 days  \n",
       "68           49       False               23 days  \n",
       "69           49       False              159 days  "
      ]
     },
     "execution_count": 205,
     "metadata": {},
     "output_type": "execute_result"
    }
   ],
   "source": [
    "river_entero_wq['days_between_samples'] = river_entero_wq['Date'].diff()\n",
    "river_entero_wq[60:70]"
   ]
  },
  {
   "cell_type": "code",
   "execution_count": 206,
   "metadata": {
    "collapsed": false
   },
   "outputs": [
    {
     "data": {
      "text/html": [
       "<div style=\"max-height:1000px;max-width:1500px;overflow:auto;\">\n",
       "<table border=\"1\" class=\"dataframe\">\n",
       "  <thead>\n",
       "    <tr style=\"text-align: right;\">\n",
       "      <th></th>\n",
       "      <th>index</th>\n",
       "      <th>Site</th>\n",
       "      <th>Date</th>\n",
       "      <th>EnteroCount</th>\n",
       "      <th>FourDayRainTotal</th>\n",
       "      <th>SampleCount</th>\n",
       "      <th>pass_safety</th>\n",
       "      <th>days_between_samples</th>\n",
       "    </tr>\n",
       "  </thead>\n",
       "  <tbody>\n",
       "    <tr>\n",
       "      <th>60</th>\n",
       "      <td> 2903</td>\n",
       "      <td>       125th St. Pier</td>\n",
       "      <td>2013-05-31</td>\n",
       "      <td>   0</td>\n",
       "      <td> 0.5</td>\n",
       "      <td> 66</td>\n",
       "      <td>  True</td>\n",
       "      <td>204 days</td>\n",
       "    </tr>\n",
       "    <tr>\n",
       "      <th>61</th>\n",
       "      <td> 2904</td>\n",
       "      <td>       125th St. Pier</td>\n",
       "      <td>2013-06-19</td>\n",
       "      <td>  41</td>\n",
       "      <td> 0.2</td>\n",
       "      <td> 66</td>\n",
       "      <td>  True</td>\n",
       "      <td> 19 days</td>\n",
       "    </tr>\n",
       "    <tr>\n",
       "      <th>62</th>\n",
       "      <td> 2905</td>\n",
       "      <td>       125th St. Pier</td>\n",
       "      <td>2013-07-17</td>\n",
       "      <td>  10</td>\n",
       "      <td> 0.0</td>\n",
       "      <td> 66</td>\n",
       "      <td>  True</td>\n",
       "      <td> 28 days</td>\n",
       "    </tr>\n",
       "    <tr>\n",
       "      <th>63</th>\n",
       "      <td> 2906</td>\n",
       "      <td>       125th St. Pier</td>\n",
       "      <td>2013-08-14</td>\n",
       "      <td>  31</td>\n",
       "      <td> 1.0</td>\n",
       "      <td> 66</td>\n",
       "      <td>  True</td>\n",
       "      <td> 28 days</td>\n",
       "    </tr>\n",
       "    <tr>\n",
       "      <th>64</th>\n",
       "      <td> 2907</td>\n",
       "      <td>       125th St. Pier</td>\n",
       "      <td>2013-09-18</td>\n",
       "      <td>  41</td>\n",
       "      <td> 0.0</td>\n",
       "      <td> 66</td>\n",
       "      <td>  True</td>\n",
       "      <td> 35 days</td>\n",
       "    </tr>\n",
       "    <tr>\n",
       "      <th>65</th>\n",
       "      <td> 2908</td>\n",
       "      <td>       125th St. Pier</td>\n",
       "      <td>2013-10-16</td>\n",
       "      <td> 201</td>\n",
       "      <td> 0.0</td>\n",
       "      <td> 66</td>\n",
       "      <td> False</td>\n",
       "      <td> 28 days</td>\n",
       "    </tr>\n",
       "    <tr>\n",
       "      <th>66</th>\n",
       "      <td> 3013</td>\n",
       "      <td> 79th St. mid-channel</td>\n",
       "      <td>2006-09-26</td>\n",
       "      <td>   0</td>\n",
       "      <td> 0.1</td>\n",
       "      <td> 49</td>\n",
       "      <td>  True</td>\n",
       "      <td>     NaT</td>\n",
       "    </tr>\n",
       "    <tr>\n",
       "      <th>67</th>\n",
       "      <td> 3012</td>\n",
       "      <td> 79th St. mid-channel</td>\n",
       "      <td>2006-10-18</td>\n",
       "      <td>  30</td>\n",
       "      <td> 1.1</td>\n",
       "      <td> 49</td>\n",
       "      <td>  True</td>\n",
       "      <td> 22 days</td>\n",
       "    </tr>\n",
       "    <tr>\n",
       "      <th>68</th>\n",
       "      <td> 3011</td>\n",
       "      <td> 79th St. mid-channel</td>\n",
       "      <td>2006-11-10</td>\n",
       "      <td> 143</td>\n",
       "      <td> 3.6</td>\n",
       "      <td> 49</td>\n",
       "      <td> False</td>\n",
       "      <td> 23 days</td>\n",
       "    </tr>\n",
       "    <tr>\n",
       "      <th>69</th>\n",
       "      <td> 3010</td>\n",
       "      <td> 79th St. mid-channel</td>\n",
       "      <td>2007-04-18</td>\n",
       "      <td> 205</td>\n",
       "      <td> 8.5</td>\n",
       "      <td> 49</td>\n",
       "      <td> False</td>\n",
       "      <td>159 days</td>\n",
       "    </tr>\n",
       "  </tbody>\n",
       "</table>\n",
       "</div>"
      ],
      "text/plain": [
       "    index                  Site       Date  EnteroCount  FourDayRainTotal  \\\n",
       "60   2903        125th St. Pier 2013-05-31            0               0.5   \n",
       "61   2904        125th St. Pier 2013-06-19           41               0.2   \n",
       "62   2905        125th St. Pier 2013-07-17           10               0.0   \n",
       "63   2906        125th St. Pier 2013-08-14           31               1.0   \n",
       "64   2907        125th St. Pier 2013-09-18           41               0.0   \n",
       "65   2908        125th St. Pier 2013-10-16          201               0.0   \n",
       "66   3013  79th St. mid-channel 2006-09-26            0               0.1   \n",
       "67   3012  79th St. mid-channel 2006-10-18           30               1.1   \n",
       "68   3011  79th St. mid-channel 2006-11-10          143               3.6   \n",
       "69   3010  79th St. mid-channel 2007-04-18          205               8.5   \n",
       "\n",
       "    SampleCount pass_safety  days_between_samples  \n",
       "60           66        True              204 days  \n",
       "61           66        True               19 days  \n",
       "62           66        True               28 days  \n",
       "63           66        True               28 days  \n",
       "64           66        True               35 days  \n",
       "65           66       False               28 days  \n",
       "66           49        True                   NaT  \n",
       "67           49        True               22 days  \n",
       "68           49       False               23 days  \n",
       "69           49       False              159 days  "
      ]
     },
     "execution_count": 206,
     "metadata": {},
     "output_type": "execute_result"
    }
   ],
   "source": [
    "river_entero_wq['days_between_samples'][river_entero_wq['days_between_samples'] < 1] = None\n",
    "river_entero_wq[60:70]"
   ]
  },
  {
   "cell_type": "code",
   "execution_count": 209,
   "metadata": {
    "collapsed": false
   },
   "outputs": [
    {
     "data": {
      "text/html": [
       "<div style=\"max-height:1000px;max-width:1500px;overflow:auto;\">\n",
       "<table border=\"1\" class=\"dataframe\">\n",
       "  <thead>\n",
       "    <tr style=\"text-align: right;\">\n",
       "      <th></th>\n",
       "      <th>index</th>\n",
       "      <th>Site</th>\n",
       "      <th>Date</th>\n",
       "      <th>EnteroCount</th>\n",
       "      <th>FourDayRainTotal</th>\n",
       "      <th>SampleCount</th>\n",
       "      <th>pass_safety</th>\n",
       "      <th>days_between_samples</th>\n",
       "    </tr>\n",
       "  </thead>\n",
       "  <tbody>\n",
       "    <tr>\n",
       "      <th>61</th>\n",
       "      <td> 2904</td>\n",
       "      <td>       125th St. Pier</td>\n",
       "      <td>2013-06-19</td>\n",
       "      <td>  41</td>\n",
       "      <td> 0.2</td>\n",
       "      <td> 66</td>\n",
       "      <td>  True</td>\n",
       "      <td>  19</td>\n",
       "    </tr>\n",
       "    <tr>\n",
       "      <th>62</th>\n",
       "      <td> 2905</td>\n",
       "      <td>       125th St. Pier</td>\n",
       "      <td>2013-07-17</td>\n",
       "      <td>  10</td>\n",
       "      <td> 0.0</td>\n",
       "      <td> 66</td>\n",
       "      <td>  True</td>\n",
       "      <td>  28</td>\n",
       "    </tr>\n",
       "    <tr>\n",
       "      <th>63</th>\n",
       "      <td> 2906</td>\n",
       "      <td>       125th St. Pier</td>\n",
       "      <td>2013-08-14</td>\n",
       "      <td>  31</td>\n",
       "      <td> 1.0</td>\n",
       "      <td> 66</td>\n",
       "      <td>  True</td>\n",
       "      <td>  28</td>\n",
       "    </tr>\n",
       "    <tr>\n",
       "      <th>64</th>\n",
       "      <td> 2907</td>\n",
       "      <td>       125th St. Pier</td>\n",
       "      <td>2013-09-18</td>\n",
       "      <td>  41</td>\n",
       "      <td> 0.0</td>\n",
       "      <td> 66</td>\n",
       "      <td>  True</td>\n",
       "      <td>  35</td>\n",
       "    </tr>\n",
       "    <tr>\n",
       "      <th>65</th>\n",
       "      <td> 2908</td>\n",
       "      <td>       125th St. Pier</td>\n",
       "      <td>2013-10-16</td>\n",
       "      <td> 201</td>\n",
       "      <td> 0.0</td>\n",
       "      <td> 66</td>\n",
       "      <td> False</td>\n",
       "      <td>  28</td>\n",
       "    </tr>\n",
       "    <tr>\n",
       "      <th>67</th>\n",
       "      <td> 3012</td>\n",
       "      <td> 79th St. mid-channel</td>\n",
       "      <td>2006-10-18</td>\n",
       "      <td>  30</td>\n",
       "      <td> 1.1</td>\n",
       "      <td> 49</td>\n",
       "      <td>  True</td>\n",
       "      <td>  22</td>\n",
       "    </tr>\n",
       "    <tr>\n",
       "      <th>68</th>\n",
       "      <td> 3011</td>\n",
       "      <td> 79th St. mid-channel</td>\n",
       "      <td>2006-11-10</td>\n",
       "      <td> 143</td>\n",
       "      <td> 3.6</td>\n",
       "      <td> 49</td>\n",
       "      <td> False</td>\n",
       "      <td>  23</td>\n",
       "    </tr>\n",
       "    <tr>\n",
       "      <th>69</th>\n",
       "      <td> 3010</td>\n",
       "      <td> 79th St. mid-channel</td>\n",
       "      <td>2007-04-18</td>\n",
       "      <td> 205</td>\n",
       "      <td> 8.5</td>\n",
       "      <td> 49</td>\n",
       "      <td> False</td>\n",
       "      <td> 159</td>\n",
       "    </tr>\n",
       "    <tr>\n",
       "      <th>70</th>\n",
       "      <td> 3009</td>\n",
       "      <td> 79th St. mid-channel</td>\n",
       "      <td>2007-05-23</td>\n",
       "      <td>   3</td>\n",
       "      <td> 0.0</td>\n",
       "      <td> 49</td>\n",
       "      <td>  True</td>\n",
       "      <td>  35</td>\n",
       "    </tr>\n",
       "    <tr>\n",
       "      <th>71</th>\n",
       "      <td> 3008</td>\n",
       "      <td> 79th St. mid-channel</td>\n",
       "      <td>2007-06-18</td>\n",
       "      <td>   1</td>\n",
       "      <td> 0.0</td>\n",
       "      <td> 49</td>\n",
       "      <td>  True</td>\n",
       "      <td>  26</td>\n",
       "    </tr>\n",
       "  </tbody>\n",
       "</table>\n",
       "</div>"
      ],
      "text/plain": [
       "    index                  Site       Date  EnteroCount  FourDayRainTotal  \\\n",
       "61   2904        125th St. Pier 2013-06-19           41               0.2   \n",
       "62   2905        125th St. Pier 2013-07-17           10               0.0   \n",
       "63   2906        125th St. Pier 2013-08-14           31               1.0   \n",
       "64   2907        125th St. Pier 2013-09-18           41               0.0   \n",
       "65   2908        125th St. Pier 2013-10-16          201               0.0   \n",
       "67   3012  79th St. mid-channel 2006-10-18           30               1.1   \n",
       "68   3011  79th St. mid-channel 2006-11-10          143               3.6   \n",
       "69   3010  79th St. mid-channel 2007-04-18          205               8.5   \n",
       "70   3009  79th St. mid-channel 2007-05-23            3               0.0   \n",
       "71   3008  79th St. mid-channel 2007-06-18            1               0.0   \n",
       "\n",
       "    SampleCount pass_safety  days_between_samples  \n",
       "61           66        True                    19  \n",
       "62           66        True                    28  \n",
       "63           66        True                    28  \n",
       "64           66        True                    35  \n",
       "65           66       False                    28  \n",
       "67           49        True                    22  \n",
       "68           49       False                    23  \n",
       "69           49       False                   159  \n",
       "70           49        True                    35  \n",
       "71           49        True                    26  "
      ]
     },
     "execution_count": 209,
     "metadata": {},
     "output_type": "execute_result"
    }
   ],
   "source": [
    "river_entero_wq['days_between_samples'] = river_entero_wq['days_between_samples'].astype('timedelta64[D]')\n",
    "river_entero_wq = river_entero_wq[np.isfinite(river_entero_wq['days_between_samples'])]\n",
    "\n",
    "\n",
    "river_entero_wq[60:70]"
   ]
  },
  {
   "cell_type": "code",
   "execution_count": 215,
   "metadata": {
    "collapsed": false
   },
   "outputs": [
    {
     "data": {
      "image/png": "[encoded data removed]",
      "text/plain": [
       "<matplotlib.figure.Figure at 0x1237a9610>"
      ]
     },
     "metadata": {},
     "output_type": "display_data"
    },
    {
     "data": {
      "text/plain": [
       "<ggplot: (305641297)>"
      ]
     },
     "execution_count": 215,
     "metadata": {},
     "output_type": "execute_result"
    }
   ],
   "source": [
    "ggplot(river_entero_wq.reset_index(), aes(x='days_between_samples')) + geom_histogram(binwidth=10)"
   ]
  },
  {
   "cell_type": "markdown",
   "metadata": {},
   "source": [
    "It looks like there are two patterns of sampling: every month and about every 7 months (probably for places that are likely to freeze!) Let's compare a couple of places"
   ]
  },
  {
   "cell_type": "code",
   "execution_count": 238,
   "metadata": {
    "collapsed": false
   },
   "outputs": [
    {
     "data": {
      "text/plain": [
       "Piermont Pier                         149\n",
       "West Point STP Outfall                 35\n",
       "125th St. Pier                         31\n",
       "Athens                                 29\n",
       "Poughkeepsie Drinking Water Intake     27\n",
       "Haverstraw Bay mid-channel             22\n",
       "Port Ewen Drinking Water Intake        22\n",
       "Yonkers STP Outfall                    16\n",
       "Pier 96 Kayak Launch                   15\n",
       "Harlem River- Willis Ave. Bridge       15\n",
       "Annesville Creek                        8\n",
       "Wappingers Creek                        4\n",
       "79th St. mid-channel                    3\n",
       "dtype: int64"
      ]
     },
     "execution_count": 238,
     "metadata": {},
     "output_type": "execute_result"
    }
   ],
   "source": [
    "new_worst = river_entero_wq[river_entero['Site'].isin(worst.index)]\n",
    "new_worst['Site'].value_counts()\n"
   ]
  },
  {
   "cell_type": "code",
   "execution_count": 239,
   "metadata": {
    "collapsed": false
   },
   "outputs": [],
   "source": [
    "new_worst = new_worst[(new_worst['Site']=='Piermont Pier')|\n",
    "                      (new_worst['Site']=='West Point STP Outfall')|\n",
    "                      (new_worst['Site']=='125th St. Pier')|\n",
    "                      (new_worst['Site']=='Athens')|\n",
    "                      (new_worst['Site']=='Poughkeepsie Drinking Water Intake')|\n",
    "                      (new_worst['Site']=='Haverstraw Bay mid-channel')]"
   ]
  },
  {
   "cell_type": "code",
   "execution_count": 245,
   "metadata": {
    "collapsed": false
   },
   "outputs": [
    {
     "data": {
      "image/png": "[encoded data removed]",
      "text/plain": [
       "<matplotlib.figure.Figure at 0x13762ef50>"
      ]
     },
     "metadata": {},
     "output_type": "display_data"
    },
    {
     "data": {
      "text/plain": [
       "<ggplot: (326644161)>"
      ]
     },
     "execution_count": 245,
     "metadata": {},
     "output_type": "execute_result"
    }
   ],
   "source": [
    "ggplot(new_worst, aes(x='days_between_samples')) + \\\n",
    "geom_histogram(binwidth=10) + facet_wrap('Site') + xlim(0,300)"
   ]
  },
  {
   "cell_type": "markdown",
   "metadata": {},
   "source": [
    "# 3 Is there a relationship between the amount of rain and water quality?  Show this relationship graphically. If you can, estimate the effect of rain on quality at different sites and create a visualization to compare them"
   ]
  },
  {
   "cell_type": "markdown",
   "metadata": {},
   "source": [
    "classic scatterplot question: comparing two values to find a relationship"
   ]
  },
  {
   "cell_type": "code",
   "execution_count": 251,
   "metadata": {
    "collapsed": false
   },
   "outputs": [
    {
     "data": {
      "image/png": "[encoded data removed]",
      "text/plain": [
       "<matplotlib.figure.Figure at 0x129d4a890>"
      ]
     },
     "metadata": {},
     "output_type": "display_data"
    },
    {
     "data": {
      "text/plain": [
       "<ggplot: (324034921)>"
      ]
     },
     "execution_count": 251,
     "metadata": {},
     "output_type": "execute_result"
    }
   ],
   "source": [
    "p = ggplot(new_worst.reset_index(), aes(x='FourDayRainTotal', y='EnteroCount')) + geom_point(alpha=.1) \n",
    "p + ylim(0,4000) + xlim(-1,9) + stat_smooth( color='red', method='loess')"
   ]
  },
  {
   "cell_type": "markdown",
   "metadata": {},
   "source": [
    "Lots of problems here: too much data, overplotting. We can take medians by bin"
   ]
  },
  {
   "cell_type": "code",
   "execution_count": 252,
   "metadata": {
    "collapsed": false
   },
   "outputs": [],
   "source": [
    "new_worst['rainfall_bin'] = (4 * new_worst['FourDayRainTotal']).round()/4"
   ]
  },
  {
   "cell_type": "code",
   "execution_count": 253,
   "metadata": {
    "collapsed": false
   },
   "outputs": [
    {
     "data": {
      "text/html": [
       "<div style=\"max-height:1000px;max-width:1500px;overflow:auto;\">\n",
       "<table border=\"1\" class=\"dataframe\">\n",
       "  <thead>\n",
       "    <tr style=\"text-align: right;\">\n",
       "      <th></th>\n",
       "      <th>index</th>\n",
       "      <th>EnteroCount</th>\n",
       "      <th>FourDayRainTotal</th>\n",
       "      <th>SampleCount</th>\n",
       "      <th>pass_safety</th>\n",
       "      <th>days_between_samples</th>\n",
       "      <th>rainfall</th>\n",
       "    </tr>\n",
       "    <tr>\n",
       "      <th>rainfall_bin</th>\n",
       "      <th></th>\n",
       "      <th></th>\n",
       "      <th></th>\n",
       "      <th></th>\n",
       "      <th></th>\n",
       "      <th></th>\n",
       "      <th></th>\n",
       "    </tr>\n",
       "  </thead>\n",
       "  <tbody>\n",
       "    <tr>\n",
       "      <th>0.00</th>\n",
       "      <td> 2117.0</td>\n",
       "      <td>   30.0</td>\n",
       "      <td> 0.00</td>\n",
       "      <td> 187.0</td>\n",
       "      <td>  True</td>\n",
       "      <td>   9.0</td>\n",
       "      <td> 0.00</td>\n",
       "    </tr>\n",
       "    <tr>\n",
       "      <th>0.25</th>\n",
       "      <td> 2084.5</td>\n",
       "      <td>   10.0</td>\n",
       "      <td> 0.25</td>\n",
       "      <td>  66.0</td>\n",
       "      <td>  True</td>\n",
       "      <td>  24.5</td>\n",
       "      <td> 0.25</td>\n",
       "    </tr>\n",
       "    <tr>\n",
       "      <th>0.50</th>\n",
       "      <td> 2133.0</td>\n",
       "      <td>   15.5</td>\n",
       "      <td> 0.50</td>\n",
       "      <td>  66.0</td>\n",
       "      <td>  True</td>\n",
       "      <td>  27.0</td>\n",
       "      <td> 0.50</td>\n",
       "    </tr>\n",
       "    <tr>\n",
       "      <th>0.75</th>\n",
       "      <td> 1921.5</td>\n",
       "      <td>   15.0</td>\n",
       "      <td> 0.75</td>\n",
       "      <td>  57.0</td>\n",
       "      <td>  True</td>\n",
       "      <td>  15.5</td>\n",
       "      <td> 0.75</td>\n",
       "    </tr>\n",
       "    <tr>\n",
       "      <th>1.00</th>\n",
       "      <td> 2229.0</td>\n",
       "      <td>   20.0</td>\n",
       "      <td> 1.00</td>\n",
       "      <td>  66.0</td>\n",
       "      <td>  True</td>\n",
       "      <td>  26.5</td>\n",
       "      <td> 1.00</td>\n",
       "    </tr>\n",
       "    <tr>\n",
       "      <th>1.25</th>\n",
       "      <td> 2136.0</td>\n",
       "      <td>  110.0</td>\n",
       "      <td> 1.20</td>\n",
       "      <td> 187.0</td>\n",
       "      <td>  True</td>\n",
       "      <td>   7.0</td>\n",
       "      <td> 1.25</td>\n",
       "    </tr>\n",
       "    <tr>\n",
       "      <th>1.50</th>\n",
       "      <td> 1920.0</td>\n",
       "      <td>   43.0</td>\n",
       "      <td> 1.50</td>\n",
       "      <td> 117.5</td>\n",
       "      <td>  True</td>\n",
       "      <td>  13.0</td>\n",
       "      <td> 1.50</td>\n",
       "    </tr>\n",
       "    <tr>\n",
       "      <th>1.75</th>\n",
       "      <td> 2226.0</td>\n",
       "      <td>   23.0</td>\n",
       "      <td> 1.70</td>\n",
       "      <td> 187.0</td>\n",
       "      <td>  True</td>\n",
       "      <td>   3.0</td>\n",
       "      <td> 1.75</td>\n",
       "    </tr>\n",
       "    <tr>\n",
       "      <th>2.00</th>\n",
       "      <td> 2099.0</td>\n",
       "      <td>  147.0</td>\n",
       "      <td> 2.00</td>\n",
       "      <td>  66.0</td>\n",
       "      <td> False</td>\n",
       "      <td>  36.0</td>\n",
       "      <td> 2.00</td>\n",
       "    </tr>\n",
       "    <tr>\n",
       "      <th>2.25</th>\n",
       "      <td> 2120.0</td>\n",
       "      <td>  860.0</td>\n",
       "      <td> 2.30</td>\n",
       "      <td> 187.0</td>\n",
       "      <td> False</td>\n",
       "      <td>   6.0</td>\n",
       "      <td> 2.25</td>\n",
       "    </tr>\n",
       "    <tr>\n",
       "      <th>2.50</th>\n",
       "      <td> 2203.5</td>\n",
       "      <td>  709.5</td>\n",
       "      <td> 2.55</td>\n",
       "      <td> 187.0</td>\n",
       "      <td> False</td>\n",
       "      <td>   5.5</td>\n",
       "      <td> 2.50</td>\n",
       "    </tr>\n",
       "    <tr>\n",
       "      <th>2.75</th>\n",
       "      <td>  432.0</td>\n",
       "      <td> 1733.0</td>\n",
       "      <td> 2.80</td>\n",
       "      <td>  35.0</td>\n",
       "      <td> False</td>\n",
       "      <td>  24.0</td>\n",
       "      <td> 2.75</td>\n",
       "    </tr>\n",
       "    <tr>\n",
       "      <th>4.75</th>\n",
       "      <td> 2232.0</td>\n",
       "      <td>  130.0</td>\n",
       "      <td> 4.80</td>\n",
       "      <td> 187.0</td>\n",
       "      <td> False</td>\n",
       "      <td>   1.0</td>\n",
       "      <td> 4.75</td>\n",
       "    </tr>\n",
       "    <tr>\n",
       "      <th>6.50</th>\n",
       "      <td> 2875.0</td>\n",
       "      <td>   62.0</td>\n",
       "      <td> 6.40</td>\n",
       "      <td>  66.0</td>\n",
       "      <td>  True</td>\n",
       "      <td>  28.0</td>\n",
       "      <td> 6.50</td>\n",
       "    </tr>\n",
       "    <tr>\n",
       "      <th>8.50</th>\n",
       "      <td> 2194.0</td>\n",
       "      <td> 1104.0</td>\n",
       "      <td> 8.50</td>\n",
       "      <td> 187.0</td>\n",
       "      <td> False</td>\n",
       "      <td> 133.0</td>\n",
       "      <td> 8.50</td>\n",
       "    </tr>\n",
       "  </tbody>\n",
       "</table>\n",
       "</div>"
      ],
      "text/plain": [
       "               index  EnteroCount  FourDayRainTotal  SampleCount pass_safety  \\\n",
       "rainfall_bin                                                                   \n",
       "0.00          2117.0         30.0              0.00        187.0        True   \n",
       "0.25          2084.5         10.0              0.25         66.0        True   \n",
       "0.50          2133.0         15.5              0.50         66.0        True   \n",
       "0.75          1921.5         15.0              0.75         57.0        True   \n",
       "1.00          2229.0         20.0              1.00         66.0        True   \n",
       "1.25          2136.0        110.0              1.20        187.0        True   \n",
       "1.50          1920.0         43.0              1.50        117.5        True   \n",
       "1.75          2226.0         23.0              1.70        187.0        True   \n",
       "2.00          2099.0        147.0              2.00         66.0       False   \n",
       "2.25          2120.0        860.0              2.30        187.0       False   \n",
       "2.50          2203.5        709.5              2.55        187.0       False   \n",
       "2.75           432.0       1733.0              2.80         35.0       False   \n",
       "4.75          2232.0        130.0              4.80        187.0       False   \n",
       "6.50          2875.0         62.0              6.40         66.0        True   \n",
       "8.50          2194.0       1104.0              8.50        187.0       False   \n",
       "\n",
       "              days_between_samples  rainfall  \n",
       "rainfall_bin                                  \n",
       "0.00                           9.0      0.00  \n",
       "0.25                          24.5      0.25  \n",
       "0.50                          27.0      0.50  \n",
       "0.75                          15.5      0.75  \n",
       "1.00                          26.5      1.00  \n",
       "1.25                           7.0      1.25  \n",
       "1.50                          13.0      1.50  \n",
       "1.75                           3.0      1.75  \n",
       "2.00                          36.0      2.00  \n",
       "2.25                           6.0      2.25  \n",
       "2.50                           5.5      2.50  \n",
       "2.75                          24.0      2.75  \n",
       "4.75                           1.0      4.75  \n",
       "6.50                          28.0      6.50  \n",
       "8.50                         133.0      8.50  "
      ]
     },
     "execution_count": 253,
     "metadata": {},
     "output_type": "execute_result"
    }
   ],
   "source": [
    "rain_sum = new_worst.groupby('rainfall_bin').median()\n",
    "rain_sum['rainfall'] = rain_sum.index\n",
    "rain_sum"
   ]
  },
  {
   "cell_type": "code",
   "execution_count": 254,
   "metadata": {
    "collapsed": false
   },
   "outputs": [
    {
     "data": {
      "image/png": "[encoded data removed]",
      "text/plain": [
       "<matplotlib.figure.Figure at 0x131425a90>"
      ]
     },
     "metadata": {},
     "output_type": "display_data"
    },
    {
     "data": {
      "text/plain": [
       "<ggplot: (312561125)>"
      ]
     },
     "execution_count": 254,
     "metadata": {},
     "output_type": "execute_result"
    }
   ],
   "source": [
    "ggplot(rain_sum,aes(x='rainfall', y='EnteroCount')) + geom_bar(aes(weight='EnteroCount', fill='blue'))\n",
    "#rain_sum.reset_index()"
   ]
  },
  {
   "cell_type": "markdown",
   "metadata": {},
   "source": [
    "wow: that's noticable. The median Entero count goes way up after 2 inches of rain, with spikes once it gets over 2 inches. It is unclear whether those are outliers though: let's dig in more."
   ]
  },
  {
   "cell_type": "code",
   "execution_count": 258,
   "metadata": {
    "collapsed": false
   },
   "outputs": [
    {
     "data": {
      "text/html": [
       "<div style=\"max-height:1000px;max-width:1500px;overflow:auto;\">\n",
       "<table border=\"1\" class=\"dataframe\">\n",
       "  <thead>\n",
       "    <tr style=\"text-align: right;\">\n",
       "      <th></th>\n",
       "      <th></th>\n",
       "      <th>index</th>\n",
       "      <th>EnteroCount</th>\n",
       "      <th>FourDayRainTotal</th>\n",
       "      <th>SampleCount</th>\n",
       "      <th>pass_safety</th>\n",
       "      <th>days_between_samples</th>\n",
       "      <th>rainfall</th>\n",
       "      <th>Site</th>\n",
       "    </tr>\n",
       "    <tr>\n",
       "      <th>Site</th>\n",
       "      <th>rainfall_bin</th>\n",
       "      <th></th>\n",
       "      <th></th>\n",
       "      <th></th>\n",
       "      <th></th>\n",
       "      <th></th>\n",
       "      <th></th>\n",
       "      <th></th>\n",
       "      <th></th>\n",
       "    </tr>\n",
       "  </thead>\n",
       "  <tbody>\n",
       "    <tr>\n",
       "      <th rowspan=\"8\" valign=\"top\">125th St. Pier</th>\n",
       "      <th>0.00</th>\n",
       "      <td> 2905.0</td>\n",
       "      <td>  20.0</td>\n",
       "      <td> 0.00</td>\n",
       "      <td> 66</td>\n",
       "      <td> 1.0</td>\n",
       "      <td>  28.0</td>\n",
       "      <td> 0.00</td>\n",
       "      <td> 125th St. Pier</td>\n",
       "    </tr>\n",
       "    <tr>\n",
       "      <th>0.25</th>\n",
       "      <td> 2881.0</td>\n",
       "      <td>   0.0</td>\n",
       "      <td> 0.30</td>\n",
       "      <td> 66</td>\n",
       "      <td> 1.0</td>\n",
       "      <td>  27.0</td>\n",
       "      <td> 0.25</td>\n",
       "      <td> 125th St. Pier</td>\n",
       "    </tr>\n",
       "    <tr>\n",
       "      <th>0.50</th>\n",
       "      <td> 2900.5</td>\n",
       "      <td>   5.0</td>\n",
       "      <td> 0.50</td>\n",
       "      <td> 66</td>\n",
       "      <td> 1.0</td>\n",
       "      <td>  32.5</td>\n",
       "      <td> 0.50</td>\n",
       "      <td> 125th St. Pier</td>\n",
       "    </tr>\n",
       "    <tr>\n",
       "      <th>0.75</th>\n",
       "      <td> 2892.0</td>\n",
       "      <td>  20.5</td>\n",
       "      <td> 0.80</td>\n",
       "      <td> 66</td>\n",
       "      <td> 1.0</td>\n",
       "      <td>  20.5</td>\n",
       "      <td> 0.75</td>\n",
       "      <td> 125th St. Pier</td>\n",
       "    </tr>\n",
       "    <tr>\n",
       "      <th>1.00</th>\n",
       "      <td> 2881.0</td>\n",
       "      <td>  75.5</td>\n",
       "      <td> 1.10</td>\n",
       "      <td> 66</td>\n",
       "      <td> 0.5</td>\n",
       "      <td> 125.5</td>\n",
       "      <td> 1.00</td>\n",
       "      <td> 125th St. Pier</td>\n",
       "    </tr>\n",
       "    <tr>\n",
       "      <th>1.25</th>\n",
       "      <td> 2890.5</td>\n",
       "      <td> 252.5</td>\n",
       "      <td> 1.20</td>\n",
       "      <td> 66</td>\n",
       "      <td> 0.5</td>\n",
       "      <td>  30.0</td>\n",
       "      <td> 1.25</td>\n",
       "      <td> 125th St. Pier</td>\n",
       "    </tr>\n",
       "    <tr>\n",
       "      <th>2.00</th>\n",
       "      <td> 2893.5</td>\n",
       "      <td>  68.0</td>\n",
       "      <td> 1.95</td>\n",
       "      <td> 66</td>\n",
       "      <td> 1.0</td>\n",
       "      <td>  30.5</td>\n",
       "      <td> 2.00</td>\n",
       "      <td> 125th St. Pier</td>\n",
       "    </tr>\n",
       "    <tr>\n",
       "      <th>6.50</th>\n",
       "      <td> 2875.0</td>\n",
       "      <td>  62.0</td>\n",
       "      <td> 6.40</td>\n",
       "      <td> 66</td>\n",
       "      <td> 1.0</td>\n",
       "      <td>  28.0</td>\n",
       "      <td> 6.50</td>\n",
       "      <td> 125th St. Pier</td>\n",
       "    </tr>\n",
       "  </tbody>\n",
       "</table>\n",
       "</div>"
      ],
      "text/plain": [
       "                              index  EnteroCount  FourDayRainTotal  \\\n",
       "Site           rainfall_bin                                          \n",
       "125th St. Pier 0.00          2905.0         20.0              0.00   \n",
       "               0.25          2881.0          0.0              0.30   \n",
       "               0.50          2900.5          5.0              0.50   \n",
       "               0.75          2892.0         20.5              0.80   \n",
       "               1.00          2881.0         75.5              1.10   \n",
       "               1.25          2890.5        252.5              1.20   \n",
       "               2.00          2893.5         68.0              1.95   \n",
       "               6.50          2875.0         62.0              6.40   \n",
       "\n",
       "                             SampleCount  pass_safety  days_between_samples  \\\n",
       "Site           rainfall_bin                                                   \n",
       "125th St. Pier 0.00                   66          1.0                  28.0   \n",
       "               0.25                   66          1.0                  27.0   \n",
       "               0.50                   66          1.0                  32.5   \n",
       "               0.75                   66          1.0                  20.5   \n",
       "               1.00                   66          0.5                 125.5   \n",
       "               1.25                   66          0.5                  30.0   \n",
       "               2.00                   66          1.0                  30.5   \n",
       "               6.50                   66          1.0                  28.0   \n",
       "\n",
       "                             rainfall            Site  \n",
       "Site           rainfall_bin                            \n",
       "125th St. Pier 0.00              0.00  125th St. Pier  \n",
       "               0.25              0.25  125th St. Pier  \n",
       "               0.50              0.50  125th St. Pier  \n",
       "               0.75              0.75  125th St. Pier  \n",
       "               1.00              1.00  125th St. Pier  \n",
       "               1.25              1.25  125th St. Pier  \n",
       "               2.00              2.00  125th St. Pier  \n",
       "               6.50              6.50  125th St. Pier  "
      ]
     },
     "execution_count": 258,
     "metadata": {},
     "output_type": "execute_result"
    }
   ],
   "source": [
    "rain_sum_site = new_worst.groupby(['Site','rainfall_bin']).median()\n",
    "rain_sum_site['rainfall'] = rain_sum_site.index.get_level_values('rainfall_bin')\n",
    "rain_sum_site['Site'] = rain_sum_site.index.get_level_values('Site')\n",
    "rain_sum_site[0:8]"
   ]
  },
  {
   "cell_type": "code",
   "execution_count": 257,
   "metadata": {
    "collapsed": false
   },
   "outputs": [
    {
     "data": {
      "image/png": "[encoded data removed]",
      "text/plain": [
       "<matplotlib.figure.Figure at 0x139873c90>"
      ]
     },
     "metadata": {},
     "output_type": "display_data"
    },
    {
     "data": {
      "text/plain": [
       "<ggplot: (307345941)>"
      ]
     },
     "execution_count": 257,
     "metadata": {},
     "output_type": "execute_result"
    }
   ],
   "source": [
    "p4 = ggplot(rain_sum_site, aes(x='rainfall', y='EnteroCount')) + geom_point() \n",
    "p4 + scale_x_continuous() + geom_vline(x=9, color='white') + facet_wrap('Site') + xlim(0,6) "
   ]
  },
  {
   "cell_type": "markdown",
   "metadata": {},
   "source": [
    "It's unclear if there is a local peak at 2-2.5 inches of rain: needs more research"
   ]
  },
  {
   "cell_type": "code",
   "execution_count": 39,
   "metadata": {
    "collapsed": false
   },
   "outputs": [],
   "source": []
  },
  {
   "cell_type": "code",
   "execution_count": null,
   "metadata": {
    "collapsed": false
   },
   "outputs": [],
   "source": []
  }
 ],
 "metadata": {
  "kernelspec": {
   "display_name": "Python 3",
   "language": "python",
   "name": "python3"
  },
  "language_info": {
   "codemirror_mode": {
    "name": "ipython",
    "version": 3
   },
   "file_extension": ".py",
   "mimetype": "text/x-python",
   "name": "python",
   "nbconvert_exporter": "python",
   "pygments_lexer": "ipython3",
   "version": "3.4.4"
  }
 },
 "nbformat": 4,
 "nbformat_minor": 0
}
